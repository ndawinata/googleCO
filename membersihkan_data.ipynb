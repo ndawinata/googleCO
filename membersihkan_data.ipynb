{
  "nbformat": 4,
  "nbformat_minor": 0,
  "metadata": {
    "colab": {
      "name": "membersihkan data.ipynb",
      "provenance": [],
      "collapsed_sections": [],
      "include_colab_link": true
    },
    "kernelspec": {
      "name": "python3",
      "display_name": "Python 3"
    }
  },
  "cells": [
    {
      "cell_type": "markdown",
      "metadata": {
        "id": "view-in-github",
        "colab_type": "text"
      },
      "source": [
        "<a href=\"https://colab.research.google.com/github/ndawinata/googleCO/blob/master/membersihkan_data.ipynb\" target=\"_parent\"><img src=\"https://colab.research.google.com/assets/colab-badge.svg\" alt=\"Open In Colab\"/></a>"
      ]
    },
    {
      "cell_type": "code",
      "metadata": {
        "id": "fmz3L2XXa2ix",
        "colab_type": "code",
        "colab": {}
      },
      "source": [
        "import vega_datasets\n",
        "import pandas as pd"
      ],
      "execution_count": 0,
      "outputs": []
    },
    {
      "cell_type": "code",
      "metadata": {
        "id": "pCHzUHMkuJkX",
        "colab_type": "code",
        "colab": {}
      },
      "source": [
        "bs = vega_datasets.data.birdstrikes()"
      ],
      "execution_count": 0,
      "outputs": []
    },
    {
      "cell_type": "code",
      "metadata": {
        "id": "_78QFYh8uamy",
        "colab_type": "code",
        "colab": {
          "base_uri": "https://localhost:8080/",
          "height": 394
        },
        "outputId": "e6e7eedf-9f97-4e83-b3e0-b9b8d91a6965"
      },
      "source": [
        "bs.head()"
      ],
      "execution_count": 3,
      "outputs": [
        {
          "output_type": "execute_result",
          "data": {
            "text/html": [
              "<div>\n",
              "<style scoped>\n",
              "    .dataframe tbody tr th:only-of-type {\n",
              "        vertical-align: middle;\n",
              "    }\n",
              "\n",
              "    .dataframe tbody tr th {\n",
              "        vertical-align: top;\n",
              "    }\n",
              "\n",
              "    .dataframe thead th {\n",
              "        text-align: right;\n",
              "    }\n",
              "</style>\n",
              "<table border=\"1\" class=\"dataframe\">\n",
              "  <thead>\n",
              "    <tr style=\"text-align: right;\">\n",
              "      <th></th>\n",
              "      <th>Aircraft__Airline_Operator</th>\n",
              "      <th>Aircraft__Make_Model</th>\n",
              "      <th>Airport__Name</th>\n",
              "      <th>Cost__Other</th>\n",
              "      <th>Cost__Repair</th>\n",
              "      <th>Cost__Total_$</th>\n",
              "      <th>Effect__Amount_of_damage</th>\n",
              "      <th>Flight_Date</th>\n",
              "      <th>Origin_State</th>\n",
              "      <th>Speed_IAS_in_knots</th>\n",
              "      <th>When__Phase_of_flight</th>\n",
              "      <th>When__Time_of_day</th>\n",
              "      <th>Wildlife__Size</th>\n",
              "      <th>Wildlife__Species</th>\n",
              "    </tr>\n",
              "  </thead>\n",
              "  <tbody>\n",
              "    <tr>\n",
              "      <th>0</th>\n",
              "      <td>MILITARY</td>\n",
              "      <td>T-38A</td>\n",
              "      <td>BARKSDALE AIR FORCE BASE ARPT</td>\n",
              "      <td>0</td>\n",
              "      <td>0</td>\n",
              "      <td>0</td>\n",
              "      <td>None</td>\n",
              "      <td>1/8/90 0:00</td>\n",
              "      <td>Louisiana</td>\n",
              "      <td>300.0</td>\n",
              "      <td>Climb</td>\n",
              "      <td>Day</td>\n",
              "      <td>Large</td>\n",
              "      <td>Turkey vulture</td>\n",
              "    </tr>\n",
              "    <tr>\n",
              "      <th>1</th>\n",
              "      <td>MILITARY</td>\n",
              "      <td>KC-10A</td>\n",
              "      <td>BARKSDALE AIR FORCE BASE ARPT</td>\n",
              "      <td>0</td>\n",
              "      <td>0</td>\n",
              "      <td>0</td>\n",
              "      <td>None</td>\n",
              "      <td>1/9/90 0:00</td>\n",
              "      <td>Louisiana</td>\n",
              "      <td>200.0</td>\n",
              "      <td>Approach</td>\n",
              "      <td>Night</td>\n",
              "      <td>Medium</td>\n",
              "      <td>Unknown bird or bat</td>\n",
              "    </tr>\n",
              "    <tr>\n",
              "      <th>2</th>\n",
              "      <td>MILITARY</td>\n",
              "      <td>B-52</td>\n",
              "      <td>BARKSDALE AIR FORCE BASE ARPT</td>\n",
              "      <td>0</td>\n",
              "      <td>0</td>\n",
              "      <td>0</td>\n",
              "      <td>None</td>\n",
              "      <td>1/11/90 0:00</td>\n",
              "      <td>Louisiana</td>\n",
              "      <td>130.0</td>\n",
              "      <td>Take-off run</td>\n",
              "      <td>Day</td>\n",
              "      <td>Medium</td>\n",
              "      <td>Unknown bird or bat</td>\n",
              "    </tr>\n",
              "    <tr>\n",
              "      <th>3</th>\n",
              "      <td>SOUTHWEST AIRLINES</td>\n",
              "      <td>B-737-300</td>\n",
              "      <td>NEW ORLEANS INTL</td>\n",
              "      <td>0</td>\n",
              "      <td>0</td>\n",
              "      <td>0</td>\n",
              "      <td>Substantial</td>\n",
              "      <td>1/11/90 0:00</td>\n",
              "      <td>Louisiana</td>\n",
              "      <td>140.0</td>\n",
              "      <td>Take-off run</td>\n",
              "      <td>Day</td>\n",
              "      <td>Small</td>\n",
              "      <td>Rock pigeon</td>\n",
              "    </tr>\n",
              "    <tr>\n",
              "      <th>4</th>\n",
              "      <td>MILITARY</td>\n",
              "      <td>KC-10A</td>\n",
              "      <td>BARKSDALE AIR FORCE BASE ARPT</td>\n",
              "      <td>0</td>\n",
              "      <td>0</td>\n",
              "      <td>0</td>\n",
              "      <td>None</td>\n",
              "      <td>1/12/90 0:00</td>\n",
              "      <td>Louisiana</td>\n",
              "      <td>160.0</td>\n",
              "      <td>Climb</td>\n",
              "      <td>Day</td>\n",
              "      <td>Medium</td>\n",
              "      <td>Unknown bird or bat</td>\n",
              "    </tr>\n",
              "  </tbody>\n",
              "</table>\n",
              "</div>"
            ],
            "text/plain": [
              "  Aircraft__Airline_Operator  ...    Wildlife__Species\n",
              "0                   MILITARY  ...       Turkey vulture\n",
              "1                   MILITARY  ...  Unknown bird or bat\n",
              "2                   MILITARY  ...  Unknown bird or bat\n",
              "3         SOUTHWEST AIRLINES  ...          Rock pigeon\n",
              "4                   MILITARY  ...  Unknown bird or bat\n",
              "\n",
              "[5 rows x 14 columns]"
            ]
          },
          "metadata": {
            "tags": []
          },
          "execution_count": 3
        }
      ]
    },
    {
      "cell_type": "code",
      "metadata": {
        "id": "QlpOiRzWuc4t",
        "colab_type": "code",
        "colab": {
          "base_uri": "https://localhost:8080/",
          "height": 1000
        },
        "outputId": "b181c07b-973b-42ac-d7b1-992097e7b8c1"
      },
      "source": [
        "bs['Speed_IAS_in_knots'].isna() #cek apakah ada data kosong. bila TRUE berarti ada data kosong"
      ],
      "execution_count": 5,
      "outputs": [
        {
          "output_type": "execute_result",
          "data": {
            "text/plain": [
              "0       False\n",
              "1       False\n",
              "2       False\n",
              "3       False\n",
              "4       False\n",
              "5       False\n",
              "6       False\n",
              "7       False\n",
              "8       False\n",
              "9       False\n",
              "10      False\n",
              "11      False\n",
              "12      False\n",
              "13      False\n",
              "14      False\n",
              "15      False\n",
              "16      False\n",
              "17      False\n",
              "18      False\n",
              "19       True\n",
              "20      False\n",
              "21      False\n",
              "22      False\n",
              "23      False\n",
              "24      False\n",
              "25      False\n",
              "26      False\n",
              "27      False\n",
              "28      False\n",
              "29      False\n",
              "        ...  \n",
              "9970    False\n",
              "9971    False\n",
              "9972    False\n",
              "9973    False\n",
              "9974    False\n",
              "9975     True\n",
              "9976     True\n",
              "9977     True\n",
              "9978    False\n",
              "9979    False\n",
              "9980    False\n",
              "9981    False\n",
              "9982    False\n",
              "9983    False\n",
              "9984     True\n",
              "9985    False\n",
              "9986    False\n",
              "9987    False\n",
              "9988    False\n",
              "9989     True\n",
              "9990    False\n",
              "9991    False\n",
              "9992     True\n",
              "9993    False\n",
              "9994     True\n",
              "9995     True\n",
              "9996    False\n",
              "9997    False\n",
              "9998    False\n",
              "9999    False\n",
              "Name: Speed_IAS_in_knots, Length: 10000, dtype: bool"
            ]
          },
          "metadata": {
            "tags": []
          },
          "execution_count": 5
        }
      ]
    },
    {
      "cell_type": "code",
      "metadata": {
        "id": "6A5CHGRFvpdM",
        "colab_type": "code",
        "colab": {
          "base_uri": "https://localhost:8080/",
          "height": 34
        },
        "outputId": "d977d7d4-355d-4110-caf4-7b828149664b"
      },
      "source": [
        "rata_rata = bs['Speed_IAS_in_knots'].mean()\n",
        "rata_rata"
      ],
      "execution_count": 8,
      "outputs": [
        {
          "output_type": "execute_result",
          "data": {
            "text/plain": [
              "153.53517587939697"
            ]
          },
          "metadata": {
            "tags": []
          },
          "execution_count": 8
        }
      ]
    },
    {
      "cell_type": "code",
      "metadata": {
        "id": "K9B3lUbAx43H",
        "colab_type": "code",
        "colab": {
          "base_uri": "https://localhost:8080/",
          "height": 1000
        },
        "outputId": "482b413d-3ddc-482a-daf2-832182b80c3d"
      },
      "source": [
        "#mengisi data yang kosong\n",
        "\n",
        "bs['Speed_IAS_in_knots'] = bs['Speed_IAS_in_knots'].fillna(rata_rata)\n",
        "bs['Speed_IAS_in_knots']"
      ],
      "execution_count": 11,
      "outputs": [
        {
          "output_type": "execute_result",
          "data": {
            "text/plain": [
              "0       300.000000\n",
              "1       200.000000\n",
              "2       130.000000\n",
              "3       140.000000\n",
              "4       160.000000\n",
              "5       180.000000\n",
              "6       140.000000\n",
              "7       190.000000\n",
              "8       180.000000\n",
              "9       130.000000\n",
              "10      180.000000\n",
              "11      150.000000\n",
              "12      200.000000\n",
              "13      190.000000\n",
              "14      150.000000\n",
              "15      250.000000\n",
              "16      150.000000\n",
              "17      160.000000\n",
              "18      135.000000\n",
              "19      153.535176\n",
              "20      120.000000\n",
              "21      210.000000\n",
              "22      180.000000\n",
              "23      150.000000\n",
              "24      140.000000\n",
              "25      180.000000\n",
              "26      140.000000\n",
              "27      235.000000\n",
              "28      105.000000\n",
              "29      190.000000\n",
              "           ...    \n",
              "9970    120.000000\n",
              "9971    250.000000\n",
              "9972    130.000000\n",
              "9973    120.000000\n",
              "9974    100.000000\n",
              "9975    153.535176\n",
              "9976    153.535176\n",
              "9977    153.535176\n",
              "9978    180.000000\n",
              "9979    170.000000\n",
              "9980    120.000000\n",
              "9981    160.000000\n",
              "9982    150.000000\n",
              "9983    130.000000\n",
              "9984    153.535176\n",
              "9985    100.000000\n",
              "9986    160.000000\n",
              "9987    120.000000\n",
              "9988    120.000000\n",
              "9989    153.535176\n",
              "9990    110.000000\n",
              "9991    140.000000\n",
              "9992    153.535176\n",
              "9993    220.000000\n",
              "9994    153.535176\n",
              "9995    153.535176\n",
              "9996    250.000000\n",
              "9997    120.000000\n",
              "9998    110.000000\n",
              "9999    140.000000\n",
              "Name: Speed_IAS_in_knots, Length: 10000, dtype: float64"
            ]
          },
          "metadata": {
            "tags": []
          },
          "execution_count": 11
        }
      ]
    },
    {
      "cell_type": "code",
      "metadata": {
        "id": "uxhAaV5-yi5t",
        "colab_type": "code",
        "colab": {}
      },
      "source": [
        ""
      ],
      "execution_count": 0,
      "outputs": []
    }
  ]
}