{
  "nbformat": 4,
  "nbformat_minor": 0,
  "metadata": {
    "colab": {
      "name": "Analisa Saham.ipynb",
      "provenance": [],
      "authorship_tag": "ABX9TyOv+BM4mBFmw9afHb2vp2n0",
      "include_colab_link": true
    },
    "kernelspec": {
      "name": "python3",
      "display_name": "Python 3"
    }
  },
  "cells": [
    {
      "cell_type": "markdown",
      "metadata": {
        "id": "view-in-github",
        "colab_type": "text"
      },
      "source": [
        "<a href=\"https://colab.research.google.com/github/ndawinata/googleCO/blob/master/Analisa_Saham.ipynb\" target=\"_parent\"><img src=\"https://colab.research.google.com/assets/colab-badge.svg\" alt=\"Open In Colab\"/></a>"
      ]
    },
    {
      "cell_type": "code",
      "metadata": {
        "id": "VMjg1VPmbnO5",
        "colab_type": "code",
        "colab": {}
      },
      "source": [
        "import pandas as pd\n",
        "import matplotlib.pyplot as plt\n",
        "import math\n",
        "import pandas_datareader.data as web\n",
        "import datetime"
      ],
      "execution_count": null,
      "outputs": []
    },
    {
      "cell_type": "code",
      "metadata": {
        "id": "Set1saDbcSHY",
        "colab_type": "code",
        "colab": {}
      },
      "source": [
        "start = datetime.datetime(2018,1,1)\n",
        "end = datetime.datetime(2020,9,24)"
      ],
      "execution_count": null,
      "outputs": []
    },
    {
      "cell_type": "code",
      "metadata": {
        "id": "wk7QHbFMc2cp",
        "colab_type": "code",
        "colab": {}
      },
      "source": [
        "df = web.DataReader(\"TLKM.JK\", \"yahoo\", start=start, end=end)"
      ],
      "execution_count": null,
      "outputs": []
    },
    {
      "cell_type": "code",
      "metadata": {
        "id": "TWFRT_QvdZhR",
        "colab_type": "code",
        "colab": {
          "base_uri": "https://localhost:8080/",
          "height": 235
        },
        "outputId": "2d3772ec-cc4f-4401-d60b-9ceda9508a7a"
      },
      "source": [
        "df.head()"
      ],
      "execution_count": null,
      "outputs": [
        {
          "output_type": "execute_result",
          "data": {
            "text/html": [
              "<div>\n",
              "<style scoped>\n",
              "    .dataframe tbody tr th:only-of-type {\n",
              "        vertical-align: middle;\n",
              "    }\n",
              "\n",
              "    .dataframe tbody tr th {\n",
              "        vertical-align: top;\n",
              "    }\n",
              "\n",
              "    .dataframe thead th {\n",
              "        text-align: right;\n",
              "    }\n",
              "</style>\n",
              "<table border=\"1\" class=\"dataframe\">\n",
              "  <thead>\n",
              "    <tr style=\"text-align: right;\">\n",
              "      <th></th>\n",
              "      <th>High</th>\n",
              "      <th>Low</th>\n",
              "      <th>Open</th>\n",
              "      <th>Close</th>\n",
              "      <th>Volume</th>\n",
              "      <th>Adj Close</th>\n",
              "    </tr>\n",
              "    <tr>\n",
              "      <th>Date</th>\n",
              "      <th></th>\n",
              "      <th></th>\n",
              "      <th></th>\n",
              "      <th></th>\n",
              "      <th></th>\n",
              "      <th></th>\n",
              "    </tr>\n",
              "  </thead>\n",
              "  <tbody>\n",
              "    <tr>\n",
              "      <th>2018-01-01</th>\n",
              "      <td>4440.0</td>\n",
              "      <td>4440.0</td>\n",
              "      <td>4440.0</td>\n",
              "      <td>4440.0</td>\n",
              "      <td>0.0</td>\n",
              "      <td>4130.720703</td>\n",
              "    </tr>\n",
              "    <tr>\n",
              "      <th>2018-01-02</th>\n",
              "      <td>4460.0</td>\n",
              "      <td>4380.0</td>\n",
              "      <td>4430.0</td>\n",
              "      <td>4410.0</td>\n",
              "      <td>66075600.0</td>\n",
              "      <td>4102.810059</td>\n",
              "    </tr>\n",
              "    <tr>\n",
              "      <th>2018-01-03</th>\n",
              "      <td>4380.0</td>\n",
              "      <td>4200.0</td>\n",
              "      <td>4380.0</td>\n",
              "      <td>4230.0</td>\n",
              "      <td>129205000.0</td>\n",
              "      <td>3935.348389</td>\n",
              "    </tr>\n",
              "    <tr>\n",
              "      <th>2018-01-04</th>\n",
              "      <td>4250.0</td>\n",
              "      <td>4190.0</td>\n",
              "      <td>4230.0</td>\n",
              "      <td>4220.0</td>\n",
              "      <td>77953300.0</td>\n",
              "      <td>3926.045166</td>\n",
              "    </tr>\n",
              "    <tr>\n",
              "      <th>2018-01-05</th>\n",
              "      <td>4280.0</td>\n",
              "      <td>4200.0</td>\n",
              "      <td>4220.0</td>\n",
              "      <td>4280.0</td>\n",
              "      <td>55863000.0</td>\n",
              "      <td>3981.865967</td>\n",
              "    </tr>\n",
              "  </tbody>\n",
              "</table>\n",
              "</div>"
            ],
            "text/plain": [
              "              High     Low    Open   Close       Volume    Adj Close\n",
              "Date                                                                \n",
              "2018-01-01  4440.0  4440.0  4440.0  4440.0          0.0  4130.720703\n",
              "2018-01-02  4460.0  4380.0  4430.0  4410.0   66075600.0  4102.810059\n",
              "2018-01-03  4380.0  4200.0  4380.0  4230.0  129205000.0  3935.348389\n",
              "2018-01-04  4250.0  4190.0  4230.0  4220.0   77953300.0  3926.045166\n",
              "2018-01-05  4280.0  4200.0  4220.0  4280.0   55863000.0  3981.865967"
            ]
          },
          "metadata": {
            "tags": []
          },
          "execution_count": 31
        }
      ]
    },
    {
      "cell_type": "code",
      "metadata": {
        "id": "XaeflthifSFe",
        "colab_type": "code",
        "colab": {
          "base_uri": "https://localhost:8080/",
          "height": 34
        },
        "outputId": "7789b371-d0cf-44e1-ba00-4a94b1de51d9"
      },
      "source": [
        "len(df)"
      ],
      "execution_count": null,
      "outputs": [
        {
          "output_type": "execute_result",
          "data": {
            "text/plain": [
              "698"
            ]
          },
          "metadata": {
            "tags": []
          },
          "execution_count": 23
        }
      ]
    },
    {
      "cell_type": "code",
      "metadata": {
        "id": "WEbShTrffYLd",
        "colab_type": "code",
        "colab": {
          "base_uri": "https://localhost:8080/",
          "height": 282
        },
        "outputId": "a92d4b42-0dc5-43a8-9caa-72c0fb8b4496"
      },
      "source": [
        "plt.plot(df['Adj Close'])"
      ],
      "execution_count": null,
      "outputs": [
        {
          "output_type": "execute_result",
          "data": {
            "text/plain": [
              "[<matplotlib.lines.Line2D at 0x7f145f8cd080>]"
            ]
          },
          "metadata": {
            "tags": []
          },
          "execution_count": 6
        },
        {
          "output_type": "display_data",
          "data": {
            "image/png": "[encoded data removed]",
            "text/plain": [
              "<Figure size 432x288 with 1 Axes>"
            ]
          },
          "metadata": {
            "tags": [],
            "needs_background": "light"
          }
        }
      ]
    },
    {
      "cell_type": "code",
      "metadata": {
        "id": "5l81APAig-Rn",
        "colab_type": "code",
        "colab": {}
      },
      "source": [
        "close_px = df['Adj Close']\n",
        "mavg = close_px.rolling(window=30).mean()\n",
        "# mavg = moving average\n",
        "# window=30 -> rata rata per 30 baris\n",
        "mavg2 = close_px.rolling(window=90, center=True).mean()"
      ],
      "execution_count": null,
      "outputs": []
    },
    {
      "cell_type": "code",
      "metadata": {
        "id": "s3PheJZ7fozI",
        "colab_type": "code",
        "colab": {
          "base_uri": "https://localhost:8080/",
          "height": 282
        },
        "outputId": "316b0910-6912-4ac6-e901-9276dcba5b4b"
      },
      "source": [
        "plt.plot(close_px)\n",
        "plt.plot(mavg)\n",
        "plt.plot(mavg2)"
      ],
      "execution_count": null,
      "outputs": [
        {
          "output_type": "execute_result",
          "data": {
            "text/plain": [
              "[<matplotlib.lines.Line2D at 0x7f145f2e9c88>]"
            ]
          },
          "metadata": {
            "tags": []
          },
          "execution_count": 8
        },
        {
          "output_type": "display_data",
          "data": {
            "image/png": "[encoded data removed]",
            "text/plain": [
              "<Figure size 432x288 with 1 Axes>"
            ]
          },
          "metadata": {
            "tags": [],
            "needs_background": "light"
          }
        }
      ]
    },
    {
      "cell_type": "code",
      "metadata": {
        "id": "YBVCXKLjISGr",
        "colab_type": "code",
        "colab": {
          "base_uri": "https://localhost:8080/",
          "height": 294
        },
        "outputId": "35f76cd0-f72f-487a-eb76-4a0614e40a44"
      },
      "source": [
        "# return deviationn / jika beli sekarang nanti kita jual (rets)\n",
        "\n",
        "rets = close_px / close_px.shift(1) - 1\n",
        "rets.plot()"
      ],
      "execution_count": null,
      "outputs": [
        {
          "output_type": "execute_result",
          "data": {
            "text/plain": [
              "<matplotlib.axes._subplots.AxesSubplot at 0x7f145da173c8>"
            ]
          },
          "metadata": {
            "tags": []
          },
          "execution_count": 10
        },
        {
          "output_type": "display_data",
          "data": {
            "image/png": "[encoded data removed]",
            "text/plain": [
              "<Figure size 432x288 with 1 Axes>"
            ]
          },
          "metadata": {
            "tags": [],
            "needs_background": "light"
          }
        }
      ]
    },
    {
      "cell_type": "code",
      "metadata": {
        "id": "gK8IQ8sjJwO-",
        "colab_type": "code",
        "colab": {}
      },
      "source": [
        "# komparasi antar emiten\n",
        "\n",
        "dfcomp = web.DataReader(['BBCA.JK', 'BMRI.JK', 'BBNI.JK', 'BBRI.JK'], 'yahoo', start=start, end=end)['Adj Close']"
      ],
      "execution_count": null,
      "outputs": []
    },
    {
      "cell_type": "code",
      "metadata": {
        "id": "SdISrnqkKlKN",
        "colab_type": "code",
        "colab": {
          "base_uri": "https://localhost:8080/",
          "height": 235
        },
        "outputId": "1f02b931-89cd-4549-c9b0-0768c9d70093"
      },
      "source": [
        "dfcomp = dfcomp.dropna() \n",
        "# drop data kosong\n",
        "dfcomp.head()"
      ],
      "execution_count": null,
      "outputs": [
        {
          "output_type": "execute_result",
          "data": {
            "text/html": [
              "<div>\n",
              "<style scoped>\n",
              "    .dataframe tbody tr th:only-of-type {\n",
              "        vertical-align: middle;\n",
              "    }\n",
              "\n",
              "    .dataframe tbody tr th {\n",
              "        vertical-align: top;\n",
              "    }\n",
              "\n",
              "    .dataframe thead th {\n",
              "        text-align: right;\n",
              "    }\n",
              "</style>\n",
              "<table border=\"1\" class=\"dataframe\">\n",
              "  <thead>\n",
              "    <tr style=\"text-align: right;\">\n",
              "      <th>Symbols</th>\n",
              "      <th>BBCA.JK</th>\n",
              "      <th>BMRI.JK</th>\n",
              "      <th>BBNI.JK</th>\n",
              "      <th>BBRI.JK</th>\n",
              "    </tr>\n",
              "    <tr>\n",
              "      <th>Date</th>\n",
              "      <th></th>\n",
              "      <th></th>\n",
              "      <th></th>\n",
              "      <th></th>\n",
              "    </tr>\n",
              "  </thead>\n",
              "  <tbody>\n",
              "    <tr>\n",
              "      <th>2018-01-01</th>\n",
              "      <td>21035.916016</td>\n",
              "      <td>7009.775391</td>\n",
              "      <td>9123.761719</td>\n",
              "      <td>3282.748779</td>\n",
              "    </tr>\n",
              "    <tr>\n",
              "      <th>2018-01-02</th>\n",
              "      <td>21035.916016</td>\n",
              "      <td>6878.342285</td>\n",
              "      <td>9008.562500</td>\n",
              "      <td>3273.730225</td>\n",
              "    </tr>\n",
              "    <tr>\n",
              "      <th>2018-01-03</th>\n",
              "      <td>21035.916016</td>\n",
              "      <td>6746.909180</td>\n",
              "      <td>8686.005859</td>\n",
              "      <td>3255.693115</td>\n",
              "    </tr>\n",
              "    <tr>\n",
              "      <th>2018-01-04</th>\n",
              "      <td>21348.093750</td>\n",
              "      <td>6856.436523</td>\n",
              "      <td>8662.964844</td>\n",
              "      <td>3201.581787</td>\n",
              "    </tr>\n",
              "    <tr>\n",
              "      <th>2018-01-05</th>\n",
              "      <td>21372.105469</td>\n",
              "      <td>6856.436523</td>\n",
              "      <td>8570.806641</td>\n",
              "      <td>3237.656006</td>\n",
              "    </tr>\n",
              "  </tbody>\n",
              "</table>\n",
              "</div>"
            ],
            "text/plain": [
              "Symbols          BBCA.JK      BMRI.JK      BBNI.JK      BBRI.JK\n",
              "Date                                                           \n",
              "2018-01-01  21035.916016  7009.775391  9123.761719  3282.748779\n",
              "2018-01-02  21035.916016  6878.342285  9008.562500  3273.730225\n",
              "2018-01-03  21035.916016  6746.909180  8686.005859  3255.693115\n",
              "2018-01-04  21348.093750  6856.436523  8662.964844  3201.581787\n",
              "2018-01-05  21372.105469  6856.436523  8570.806641  3237.656006"
            ]
          },
          "metadata": {
            "tags": []
          },
          "execution_count": 26
        }
      ]
    },
    {
      "cell_type": "code",
      "metadata": {
        "id": "PT1naVuGK76E",
        "colab_type": "code",
        "colab": {}
      },
      "source": [
        "# perubahan persentase (percent change)\n",
        "retscomp = dfcomp.pct_change()\n",
        "# korelasi\n",
        "corr = retscomp.corr()"
      ],
      "execution_count": null,
      "outputs": []
    },
    {
      "cell_type": "code",
      "metadata": {
        "id": "EcoxsaYVMk6V",
        "colab_type": "code",
        "colab": {
          "base_uri": "https://localhost:8080/",
          "height": 204
        },
        "outputId": "0e62a9a9-cac4-4361-c1f5-7314f02a5581"
      },
      "source": [
        "corr"
      ],
      "execution_count": null,
      "outputs": [
        {
          "output_type": "execute_result",
          "data": {
            "text/html": [
              "<div>\n",
              "<style scoped>\n",
              "    .dataframe tbody tr th:only-of-type {\n",
              "        vertical-align: middle;\n",
              "    }\n",
              "\n",
              "    .dataframe tbody tr th {\n",
              "        vertical-align: top;\n",
              "    }\n",
              "\n",
              "    .dataframe thead th {\n",
              "        text-align: right;\n",
              "    }\n",
              "</style>\n",
              "<table border=\"1\" class=\"dataframe\">\n",
              "  <thead>\n",
              "    <tr style=\"text-align: right;\">\n",
              "      <th>Symbols</th>\n",
              "      <th>BBCA.JK</th>\n",
              "      <th>BMRI.JK</th>\n",
              "      <th>BBNI.JK</th>\n",
              "      <th>BBRI.JK</th>\n",
              "    </tr>\n",
              "    <tr>\n",
              "      <th>Symbols</th>\n",
              "      <th></th>\n",
              "      <th></th>\n",
              "      <th></th>\n",
              "      <th></th>\n",
              "    </tr>\n",
              "  </thead>\n",
              "  <tbody>\n",
              "    <tr>\n",
              "      <th>BBCA.JK</th>\n",
              "      <td>1.000000</td>\n",
              "      <td>0.608812</td>\n",
              "      <td>0.548020</td>\n",
              "      <td>0.596950</td>\n",
              "    </tr>\n",
              "    <tr>\n",
              "      <th>BMRI.JK</th>\n",
              "      <td>0.608812</td>\n",
              "      <td>1.000000</td>\n",
              "      <td>0.783323</td>\n",
              "      <td>0.762466</td>\n",
              "    </tr>\n",
              "    <tr>\n",
              "      <th>BBNI.JK</th>\n",
              "      <td>0.548020</td>\n",
              "      <td>0.783323</td>\n",
              "      <td>1.000000</td>\n",
              "      <td>0.751158</td>\n",
              "    </tr>\n",
              "    <tr>\n",
              "      <th>BBRI.JK</th>\n",
              "      <td>0.596950</td>\n",
              "      <td>0.762466</td>\n",
              "      <td>0.751158</td>\n",
              "      <td>1.000000</td>\n",
              "    </tr>\n",
              "  </tbody>\n",
              "</table>\n",
              "</div>"
            ],
            "text/plain": [
              "Symbols   BBCA.JK   BMRI.JK   BBNI.JK   BBRI.JK\n",
              "Symbols                                        \n",
              "BBCA.JK  1.000000  0.608812  0.548020  0.596950\n",
              "BMRI.JK  0.608812  1.000000  0.783323  0.762466\n",
              "BBNI.JK  0.548020  0.783323  1.000000  0.751158\n",
              "BBRI.JK  0.596950  0.762466  0.751158  1.000000"
            ]
          },
          "metadata": {
            "tags": []
          },
          "execution_count": 28
        }
      ]
    },
    {
      "cell_type": "code",
      "metadata": {
        "id": "_Sg4ZvYCMoIq",
        "colab_type": "code",
        "colab": {
          "base_uri": "https://localhost:8080/",
          "height": 405
        },
        "outputId": "56226789-9660-45d9-827f-affd27eba0fb"
      },
      "source": [
        "plt.imshow(corr, cmap='hot', interpolation='none')\n",
        "plt.colorbar()\n",
        "plt.xticks(range(len(corr)), corr.columns)\n",
        "plt.yticks(range(len(corr)), corr.columns)\n",
        "\n",
        "# semakin terang maka semakin berkorelasi"
      ],
      "execution_count": null,
      "outputs": [
        {
          "output_type": "execute_result",
          "data": {
            "text/plain": [
              "([<matplotlib.axis.YTick at 0x7f14556b0cf8>,\n",
              "  <matplotlib.axis.YTick at 0x7f14556b06d8>,\n",
              "  <matplotlib.axis.YTick at 0x7f1455709128>,\n",
              "  <matplotlib.axis.YTick at 0x7f1455686eb8>],\n",
              " [Text(0, 0, 'BBCA.JK'),\n",
              "  Text(0, 0, 'BMRI.JK'),\n",
              "  Text(0, 0, 'BBNI.JK'),\n",
              "  Text(0, 0, 'BBRI.JK')])"
            ]
          },
          "metadata": {
            "tags": []
          },
          "execution_count": 32
        },
        {
          "output_type": "display_data",
          "data": {
            "image/png": "[encoded data removed]",
            "text/plain": [
              "<Figure size 432x288 with 2 Axes>"
            ]
          },
          "metadata": {
            "tags": [],
            "needs_background": "light"
          }
        }
      ]
    }
  ]
}