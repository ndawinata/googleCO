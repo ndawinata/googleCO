{
  "nbformat": 4,
  "nbformat_minor": 0,
  "metadata": {
    "colab": {
      "name": "Grafik dengan Matplotlib.ipynb",
      "provenance": [],
      "collapsed_sections": [],
      "include_colab_link": true
    },
    "kernelspec": {
      "name": "python3",
      "display_name": "Python 3"
    }
  },
  "cells": [
    {
      "cell_type": "markdown",
      "metadata": {
        "id": "view-in-github",
        "colab_type": "text"
      },
      "source": [
        "<a href=\"https://colab.research.google.com/github/ndawinata/googleCO/blob/master/Grafik_dengan_Matplotlib.ipynb\" target=\"_parent\"><img src=\"https://colab.research.google.com/assets/colab-badge.svg\" alt=\"Open In Colab\"/></a>"
      ]
    },
    {
      "cell_type": "code",
      "metadata": {
        "id": "gkCFuoD839N-",
        "colab_type": "code",
        "colab": {}
      },
      "source": [
        "import numpy as np\n",
        "import matplotlib.pyplot as plt"
      ],
      "execution_count": 0,
      "outputs": []
    },
    {
      "cell_type": "code",
      "metadata": {
        "id": "RRNMQTTZ4fcI",
        "colab_type": "code",
        "colab": {
          "base_uri": "https://localhost:8080/",
          "height": 119
        },
        "outputId": "ff8183d8-f7b9-4192-a128-05d1c63c85da"
      },
      "source": [
        "np.linspace(0,30,30) #buat angaka 0 - 30 dibagi 30 rata"
      ],
      "execution_count": 3,
      "outputs": [
        {
          "output_type": "execute_result",
          "data": {
            "text/plain": [
              "array([ 0.        ,  1.03448276,  2.06896552,  3.10344828,  4.13793103,\n",
              "        5.17241379,  6.20689655,  7.24137931,  8.27586207,  9.31034483,\n",
              "       10.34482759, 11.37931034, 12.4137931 , 13.44827586, 14.48275862,\n",
              "       15.51724138, 16.55172414, 17.5862069 , 18.62068966, 19.65517241,\n",
              "       20.68965517, 21.72413793, 22.75862069, 23.79310345, 24.82758621,\n",
              "       25.86206897, 26.89655172, 27.93103448, 28.96551724, 30.        ])"
            ]
          },
          "metadata": {
            "tags": []
          },
          "execution_count": 3
        }
      ]
    },
    {
      "cell_type": "code",
      "metadata": {
        "id": "2dYvMGdL4wLx",
        "colab_type": "code",
        "colab": {
          "base_uri": "https://localhost:8080/",
          "height": 295
        },
        "outputId": "b7702704-588a-4044-8bb3-197fd62931a7"
      },
      "source": [
        "x = np.linspace(0,30,30)\n",
        "y = x * x\n",
        "y2 = y * x\n",
        "\n",
        "plt.title('Grafik Kuadratik')\n",
        "plt.xlabel('Satuan')\n",
        "plt.ylabel('hasil')\n",
        "plt.plot(x, label='biasa', marker='*', c='red') #marker ada bintang bintangya\n",
        "plt.plot(y, label='kuadrat', marker='+')\n",
        "plt.plot(y2, label='pangkat 3', marker='.', linewidth = 5, markersize= 20)\n",
        "plt.legend()\n",
        "plt.show()"
      ],
      "execution_count": 22,
      "outputs": [
        {
          "output_type": "display_data",
          "data": {
            "image/png": "[encoded data removed]",
            "text/plain": [
              "<Figure size 432x288 with 1 Axes>"
            ]
          },
          "metadata": {
            "tags": []
          }
        }
      ]
    },
    {
      "cell_type": "code",
      "metadata": {
        "id": "DlgWh9zu5tn_",
        "colab_type": "code",
        "colab": {
          "base_uri": "https://localhost:8080/",
          "height": 204
        },
        "outputId": "99627828-8e5e-4956-d1b8-4b6c826b1ce9"
      },
      "source": [
        "import vega_datasets\n",
        "cars = vega_datasets.data.cars()\n",
        "cars.head()"
      ],
      "execution_count": 24,
      "outputs": [
        {
          "output_type": "execute_result",
          "data": {
            "text/html": [
              "<div>\n",
              "<style scoped>\n",
              "    .dataframe tbody tr th:only-of-type {\n",
              "        vertical-align: middle;\n",
              "    }\n",
              "\n",
              "    .dataframe tbody tr th {\n",
              "        vertical-align: top;\n",
              "    }\n",
              "\n",
              "    .dataframe thead th {\n",
              "        text-align: right;\n",
              "    }\n",
              "</style>\n",
              "<table border=\"1\" class=\"dataframe\">\n",
              "  <thead>\n",
              "    <tr style=\"text-align: right;\">\n",
              "      <th></th>\n",
              "      <th>Acceleration</th>\n",
              "      <th>Cylinders</th>\n",
              "      <th>Displacement</th>\n",
              "      <th>Horsepower</th>\n",
              "      <th>Miles_per_Gallon</th>\n",
              "      <th>Name</th>\n",
              "      <th>Origin</th>\n",
              "      <th>Weight_in_lbs</th>\n",
              "      <th>Year</th>\n",
              "    </tr>\n",
              "  </thead>\n",
              "  <tbody>\n",
              "    <tr>\n",
              "      <th>0</th>\n",
              "      <td>12.0</td>\n",
              "      <td>8</td>\n",
              "      <td>307.0</td>\n",
              "      <td>130.0</td>\n",
              "      <td>18.0</td>\n",
              "      <td>chevrolet chevelle malibu</td>\n",
              "      <td>USA</td>\n",
              "      <td>3504</td>\n",
              "      <td>1970-01-01</td>\n",
              "    </tr>\n",
              "    <tr>\n",
              "      <th>1</th>\n",
              "      <td>11.5</td>\n",
              "      <td>8</td>\n",
              "      <td>350.0</td>\n",
              "      <td>165.0</td>\n",
              "      <td>15.0</td>\n",
              "      <td>buick skylark 320</td>\n",
              "      <td>USA</td>\n",
              "      <td>3693</td>\n",
              "      <td>1970-01-01</td>\n",
              "    </tr>\n",
              "    <tr>\n",
              "      <th>2</th>\n",
              "      <td>11.0</td>\n",
              "      <td>8</td>\n",
              "      <td>318.0</td>\n",
              "      <td>150.0</td>\n",
              "      <td>18.0</td>\n",
              "      <td>plymouth satellite</td>\n",
              "      <td>USA</td>\n",
              "      <td>3436</td>\n",
              "      <td>1970-01-01</td>\n",
              "    </tr>\n",
              "    <tr>\n",
              "      <th>3</th>\n",
              "      <td>12.0</td>\n",
              "      <td>8</td>\n",
              "      <td>304.0</td>\n",
              "      <td>150.0</td>\n",
              "      <td>16.0</td>\n",
              "      <td>amc rebel sst</td>\n",
              "      <td>USA</td>\n",
              "      <td>3433</td>\n",
              "      <td>1970-01-01</td>\n",
              "    </tr>\n",
              "    <tr>\n",
              "      <th>4</th>\n",
              "      <td>10.5</td>\n",
              "      <td>8</td>\n",
              "      <td>302.0</td>\n",
              "      <td>140.0</td>\n",
              "      <td>17.0</td>\n",
              "      <td>ford torino</td>\n",
              "      <td>USA</td>\n",
              "      <td>3449</td>\n",
              "      <td>1970-01-01</td>\n",
              "    </tr>\n",
              "  </tbody>\n",
              "</table>\n",
              "</div>"
            ],
            "text/plain": [
              "   Acceleration  Cylinders  Displacement  ...  Origin  Weight_in_lbs       Year\n",
              "0          12.0          8         307.0  ...     USA           3504 1970-01-01\n",
              "1          11.5          8         350.0  ...     USA           3693 1970-01-01\n",
              "2          11.0          8         318.0  ...     USA           3436 1970-01-01\n",
              "3          12.0          8         304.0  ...     USA           3433 1970-01-01\n",
              "4          10.5          8         302.0  ...     USA           3449 1970-01-01\n",
              "\n",
              "[5 rows x 9 columns]"
            ]
          },
          "metadata": {
            "tags": []
          },
          "execution_count": 24
        }
      ]
    },
    {
      "cell_type": "code",
      "metadata": {
        "id": "QCOU1Q6K-RyV",
        "colab_type": "code",
        "colab": {
          "base_uri": "https://localhost:8080/",
          "height": 286
        },
        "outputId": "410661a5-0d33-417d-f5c6-27c8dcc03755"
      },
      "source": [
        "plt.scatter(cars['Acceleration'],cars['Displacement'])"
      ],
      "execution_count": 25,
      "outputs": [
        {
          "output_type": "execute_result",
          "data": {
            "text/plain": [
              "<matplotlib.collections.PathCollection at 0x7fcc1b2967b8>"
            ]
          },
          "metadata": {
            "tags": []
          },
          "execution_count": 25
        },
        {
          "output_type": "display_data",
          "data": {
            "image/png": "[encoded data removed]",
            "text/plain": [
              "<Figure size 432x288 with 1 Axes>"
            ]
          },
          "metadata": {
            "tags": []
          }
        }
      ]
    },
    {
      "cell_type": "code",
      "metadata": {
        "id": "AIdA7TJR_AjS",
        "colab_type": "code",
        "colab": {
          "base_uri": "https://localhost:8080/",
          "height": 354
        },
        "outputId": "2499c23a-7787-4f7d-ad48-20b1c0b6a038"
      },
      "source": [
        "plt.hist(cars['Acceleration'], bins=15) #bins = bagian jumlah x"
      ],
      "execution_count": 31,
      "outputs": [
        {
          "output_type": "execute_result",
          "data": {
            "text/plain": [
              "(array([ 5.,  6., 14., 24., 52., 61., 70., 57., 47., 34., 15., 10.,  7.,\n",
              "         1.,  3.]),\n",
              " array([ 8.  ,  9.12, 10.24, 11.36, 12.48, 13.6 , 14.72, 15.84, 16.96,\n",
              "        18.08, 19.2 , 20.32, 21.44, 22.56, 23.68, 24.8 ]),\n",
              " <a list of 15 Patch objects>)"
            ]
          },
          "metadata": {
            "tags": []
          },
          "execution_count": 31
        },
        {
          "output_type": "display_data",
          "data": {
            "image/png": "[encoded data removed]",
            "text/plain": [
              "<Figure size 432x288 with 1 Axes>"
            ]
          },
          "metadata": {
            "tags": []
          }
        }
      ]
    },
    {
      "cell_type": "code",
      "metadata": {
        "id": "666XDqMQ_N5e",
        "colab_type": "code",
        "colab": {}
      },
      "source": [
        ""
      ],
      "execution_count": 0,
      "outputs": []
    }
  ]
}