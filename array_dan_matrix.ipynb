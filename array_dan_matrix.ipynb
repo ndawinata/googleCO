{
  "nbformat": 4,
  "nbformat_minor": 0,
  "metadata": {
    "colab": {
      "name": "Minggu 2 array dan matrix.ipynb",
      "provenance": [],
      "collapsed_sections": [],
      "include_colab_link": true
    },
    "kernelspec": {
      "name": "python3",
      "display_name": "Python 3"
    }
  },
  "cells": [
    {
      "cell_type": "markdown",
      "metadata": {
        "id": "view-in-github",
        "colab_type": "text"
      },
      "source": [
        "<a href=\"https://colab.research.google.com/github/ndawinata/googleCO/blob/master/array_dan_matrix.ipynb\" target=\"_parent\"><img src=\"https://colab.research.google.com/assets/colab-badge.svg\" alt=\"Open In Colab\"/></a>"
      ]
    },
    {
      "cell_type": "code",
      "metadata": {
        "id": "zKHhtu-hoOqc",
        "colab_type": "code",
        "colab": {}
      },
      "source": [
        "import numpy as np"
      ],
      "execution_count": 0,
      "outputs": []
    },
    {
      "cell_type": "code",
      "metadata": {
        "id": "I2dTKbjhpQkw",
        "colab_type": "code",
        "outputId": "4c2373ee-6c55-4626-d364-8fe1894ed8dc",
        "colab": {
          "base_uri": "https://localhost:8080/",
          "height": 51
        }
      },
      "source": [
        "arr2d = np.array([[1,2,3],[4,5,6]])\n",
        "arr1d = np.array([1,1,1])\n",
        "arr1d + arr2d"
      ],
      "execution_count": 0,
      "outputs": [
        {
          "output_type": "execute_result",
          "data": {
            "text/plain": [
              "array([[2, 3, 4],\n",
              "       [5, 6, 7]])"
            ]
          },
          "metadata": {
            "tags": []
          },
          "execution_count": 8
        }
      ]
    },
    {
      "cell_type": "code",
      "metadata": {
        "id": "OBdnkrS2pp0J",
        "colab_type": "code",
        "outputId": "3424b0ae-02ec-4c8f-c6b6-6797c073fbf8",
        "colab": {
          "base_uri": "https://localhost:8080/",
          "height": 68
        }
      },
      "source": [
        "mx1 = np.matrix([1,2,3])\n",
        "mx2 = np.matrix([[2],[2],[2]])\n",
        "mx3 = np.matrix([2,2,2])\n",
        "mx4 = np.matrix([[1,2,3],[2,3,4],[3,4,5]])\n",
        "mx5 = np.matrix([[1,1,1],[1,1,1],[1,1,1]])\n",
        "mx5"
      ],
      "execution_count": 0,
      "outputs": [
        {
          "output_type": "execute_result",
          "data": {
            "text/plain": [
              "matrix([[1, 1, 1],\n",
              "        [1, 1, 1],\n",
              "        [1, 1, 1]])"
            ]
          },
          "metadata": {
            "tags": []
          },
          "execution_count": 20
        }
      ]
    },
    {
      "cell_type": "code",
      "metadata": {
        "id": "b3hRC8DIq7MO",
        "colab_type": "code",
        "outputId": "747eea0f-f59e-432b-a1b7-fd8eae757fc0",
        "colab": {
          "base_uri": "https://localhost:8080/",
          "height": 68
        }
      },
      "source": [
        "mx4 + mx5"
      ],
      "execution_count": 0,
      "outputs": [
        {
          "output_type": "execute_result",
          "data": {
            "text/plain": [
              "matrix([[2, 3, 4],\n",
              "        [3, 4, 5],\n",
              "        [4, 5, 6]])"
            ]
          },
          "metadata": {
            "tags": []
          },
          "execution_count": 21
        }
      ]
    },
    {
      "cell_type": "code",
      "metadata": {
        "id": "LcymomqkuWYh",
        "colab_type": "code",
        "outputId": "e5cd6f1d-ac09-4c8b-fdd7-77bb2ddcbec9",
        "colab": {
          "base_uri": "https://localhost:8080/",
          "height": 68
        }
      },
      "source": [
        "mx4 * mx5"
      ],
      "execution_count": 0,
      "outputs": [
        {
          "output_type": "execute_result",
          "data": {
            "text/plain": [
              "matrix([[ 6,  6,  6],\n",
              "        [ 9,  9,  9],\n",
              "        [12, 12, 12]])"
            ]
          },
          "metadata": {
            "tags": []
          },
          "execution_count": 22
        }
      ]
    },
    {
      "cell_type": "code",
      "metadata": {
        "id": "zhru-S2hw4hh",
        "colab_type": "code",
        "outputId": "b9e043e3-1d0a-4d4c-fac7-9fc6abf0871f",
        "colab": {
          "base_uri": "https://localhost:8080/",
          "height": 34
        }
      },
      "source": [
        "mx1*mx5"
      ],
      "execution_count": 0,
      "outputs": [
        {
          "output_type": "execute_result",
          "data": {
            "text/plain": [
              "matrix([[6, 6, 6]])"
            ]
          },
          "metadata": {
            "tags": []
          },
          "execution_count": 25
        }
      ]
    },
    {
      "cell_type": "code",
      "metadata": {
        "id": "FwITV-2SxMcd",
        "colab_type": "code",
        "outputId": "81522da8-8bab-4677-900a-3d65705879d2",
        "colab": {
          "base_uri": "https://localhost:8080/",
          "height": 34
        }
      },
      "source": [
        "#cek ordo\n",
        "mx1.shape"
      ],
      "execution_count": 0,
      "outputs": [
        {
          "output_type": "execute_result",
          "data": {
            "text/plain": [
              "(1, 3)"
            ]
          },
          "metadata": {
            "tags": []
          },
          "execution_count": 34
        }
      ]
    },
    {
      "cell_type": "code",
      "metadata": {
        "id": "4hVzSOc_xrHU",
        "colab_type": "code",
        "outputId": "4cf1df64-b94d-4caf-8077-dcf6aafeac39",
        "colab": {
          "base_uri": "https://localhost:8080/",
          "height": 34
        }
      },
      "source": [
        "#cek element\n",
        "mx4.size"
      ],
      "execution_count": 0,
      "outputs": [
        {
          "output_type": "execute_result",
          "data": {
            "text/plain": [
              "9"
            ]
          },
          "metadata": {
            "tags": []
          },
          "execution_count": 33
        }
      ]
    },
    {
      "cell_type": "code",
      "metadata": {
        "id": "szQfe1-dyVfF",
        "colab_type": "code",
        "outputId": "5a4a7b05-fb85-495f-9f40-9437381fa68c",
        "colab": {
          "base_uri": "https://localhost:8080/",
          "height": 68
        }
      },
      "source": [
        "#merubah ordo\n",
        "mx1.reshape(3,1)"
      ],
      "execution_count": 0,
      "outputs": [
        {
          "output_type": "execute_result",
          "data": {
            "text/plain": [
              "matrix([[1],\n",
              "        [2],\n",
              "        [3]])"
            ]
          },
          "metadata": {
            "tags": []
          },
          "execution_count": 35
        }
      ]
    },
    {
      "cell_type": "code",
      "metadata": {
        "id": "deldYDAwytxJ",
        "colab_type": "code",
        "outputId": "3412159a-9851-49fe-86e3-0b85d9220b0c",
        "colab": {
          "base_uri": "https://localhost:8080/",
          "height": 68
        }
      },
      "source": [
        "#membuat matrik zero\n",
        "np.zeros((3,3))"
      ],
      "execution_count": 0,
      "outputs": [
        {
          "output_type": "execute_result",
          "data": {
            "text/plain": [
              "array([[0., 0., 0.],\n",
              "       [0., 0., 0.],\n",
              "       [0., 0., 0.]])"
            ]
          },
          "metadata": {
            "tags": []
          },
          "execution_count": 37
        }
      ]
    },
    {
      "cell_type": "code",
      "metadata": {
        "id": "lz4GTAYvzRhg",
        "colab_type": "code",
        "outputId": "d09a8f02-0a65-4162-c701-9345a761cac6",
        "colab": {
          "base_uri": "https://localhost:8080/",
          "height": 68
        }
      },
      "source": [
        "#membuat matrix identitas\n",
        "np.ones((3,3))"
      ],
      "execution_count": 0,
      "outputs": [
        {
          "output_type": "execute_result",
          "data": {
            "text/plain": [
              "array([[1., 1., 1.],\n",
              "       [1., 1., 1.],\n",
              "       [1., 1., 1.]])"
            ]
          },
          "metadata": {
            "tags": []
          },
          "execution_count": 38
        }
      ]
    },
    {
      "cell_type": "code",
      "metadata": {
        "id": "WR4Nfz32zhyt",
        "colab_type": "code",
        "outputId": "b2f45b2e-87a5-4c0d-812a-e6a9874f6c28",
        "colab": {
          "base_uri": "https://localhost:8080/",
          "height": 34
        }
      },
      "source": [
        "#membuat matrix linier\n",
        "#(start,stop,step)\n",
        "np.arange(1,10,1)"
      ],
      "execution_count": 0,
      "outputs": [
        {
          "output_type": "execute_result",
          "data": {
            "text/plain": [
              "array([1, 2, 3, 4, 5, 6, 7, 8, 9])"
            ]
          },
          "metadata": {
            "tags": []
          },
          "execution_count": 39
        }
      ]
    },
    {
      "cell_type": "code",
      "metadata": {
        "id": "AmAQDnQ_z6ux",
        "colab_type": "code",
        "outputId": "49af56b7-2933-4a21-9631-1f9c5f24a1ea",
        "colab": {
          "base_uri": "https://localhost:8080/",
          "height": 34
        }
      },
      "source": [
        "#membuat linier pembagian tepat\n",
        "np.linspace(1,10,6)"
      ],
      "execution_count": 0,
      "outputs": [
        {
          "output_type": "execute_result",
          "data": {
            "text/plain": [
              "array([ 1. ,  2.8,  4.6,  6.4,  8.2, 10. ])"
            ]
          },
          "metadata": {
            "tags": []
          },
          "execution_count": 40
        }
      ]
    },
    {
      "cell_type": "code",
      "metadata": {
        "id": "CrTpBin30VOH",
        "colab_type": "code",
        "outputId": "2703a355-61c4-4bd5-b1eb-f1332ac8c46e",
        "colab": {
          "base_uri": "https://localhost:8080/",
          "height": 34
        }
      },
      "source": [
        "#mengetahui type array\n",
        "mx1.dtype"
      ],
      "execution_count": 0,
      "outputs": [
        {
          "output_type": "execute_result",
          "data": {
            "text/plain": [
              "dtype('int64')"
            ]
          },
          "metadata": {
            "tags": []
          },
          "execution_count": 42
        }
      ]
    },
    {
      "cell_type": "code",
      "metadata": {
        "id": "emUGYDta8ixO",
        "colab_type": "code",
        "outputId": "6038456d-8d50-4593-c59e-4ca54305d366",
        "colab": {
          "base_uri": "https://localhost:8080/",
          "height": 34
        }
      },
      "source": [
        "#rubah type\n",
        "\n",
        "mxx= mx1.astype('float64')\n",
        "mxx.dtype"
      ],
      "execution_count": 0,
      "outputs": [
        {
          "output_type": "execute_result",
          "data": {
            "text/plain": [
              "dtype('float64')"
            ]
          },
          "metadata": {
            "tags": []
          },
          "execution_count": 44
        }
      ]
    },
    {
      "cell_type": "code",
      "metadata": {
        "id": "IIy9G5d685uH",
        "colab_type": "code",
        "outputId": "e6ab844f-9f64-498f-a7e5-efdb32e940e2",
        "colab": {
          "base_uri": "https://localhost:8080/",
          "height": 68
        }
      },
      "source": [
        "#buat array random\n",
        "np.random.random((3,3))"
      ],
      "execution_count": 0,
      "outputs": [
        {
          "output_type": "execute_result",
          "data": {
            "text/plain": [
              "array([[0.34734572, 0.25276773, 0.94423684],\n",
              "       [0.29390157, 0.01434938, 0.56616046],\n",
              "       [0.638624  , 0.97804938, 0.76110116]])"
            ]
          },
          "metadata": {
            "tags": []
          },
          "execution_count": 45
        }
      ]
    },
    {
      "cell_type": "code",
      "metadata": {
        "id": "rhCX6AaG9Rr5",
        "colab_type": "code",
        "outputId": "ef4f2c65-361e-44d4-f414-2bc94cfa65a8",
        "colab": {
          "base_uri": "https://localhost:8080/",
          "height": 68
        }
      },
      "source": [
        "mx7 = np.random.random((3,3))\n",
        "mx7"
      ],
      "execution_count": 0,
      "outputs": [
        {
          "output_type": "execute_result",
          "data": {
            "text/plain": [
              "array([[0.79961171, 0.71381969, 0.96991229],\n",
              "       [0.84812639, 0.25968341, 0.1730369 ],\n",
              "       [0.21216005, 0.02135831, 0.31362205]])"
            ]
          },
          "metadata": {
            "tags": []
          },
          "execution_count": 46
        }
      ]
    },
    {
      "cell_type": "code",
      "metadata": {
        "id": "2PP1Nnnp9io6",
        "colab_type": "code",
        "outputId": "0bbc1aaf-6024-4dd9-f55a-23ef74dbe096",
        "colab": {
          "base_uri": "https://localhost:8080/",
          "height": 68
        }
      },
      "source": [
        "mxy= mx7.astype('int64')\n",
        "mxy"
      ],
      "execution_count": 0,
      "outputs": [
        {
          "output_type": "execute_result",
          "data": {
            "text/plain": [
              "array([[0, 0, 0],\n",
              "       [0, 0, 0],\n",
              "       [0, 0, 0]])"
            ]
          },
          "metadata": {
            "tags": []
          },
          "execution_count": 48
        }
      ]
    },
    {
      "cell_type": "code",
      "metadata": {
        "id": "rCN54qMp9wX9",
        "colab_type": "code",
        "outputId": "6c971cc5-1519-4c62-ad72-4a2fe06d5967",
        "colab": {
          "base_uri": "https://localhost:8080/",
          "height": 68
        }
      },
      "source": [
        "#randint(low, high=None, size=None, dtype='l')\n",
        "cek = np.random.randint(1,10,(3,3))\n",
        "cek"
      ],
      "execution_count": 0,
      "outputs": [
        {
          "output_type": "execute_result",
          "data": {
            "text/plain": [
              "array([[1, 5, 4],\n",
              "       [3, 3, 1],\n",
              "       [2, 6, 3]])"
            ]
          },
          "metadata": {
            "tags": []
          },
          "execution_count": 50
        }
      ]
    },
    {
      "cell_type": "code",
      "metadata": {
        "id": "X5u-hbCz-T3C",
        "colab_type": "code",
        "outputId": "d786ea75-5776-47f9-8855-e983fcaa3cfc",
        "colab": {
          "base_uri": "https://localhost:8080/",
          "height": 34
        }
      },
      "source": [
        "cek.min()"
      ],
      "execution_count": 0,
      "outputs": [
        {
          "output_type": "execute_result",
          "data": {
            "text/plain": [
              "1"
            ]
          },
          "metadata": {
            "tags": []
          },
          "execution_count": 51
        }
      ]
    },
    {
      "cell_type": "code",
      "metadata": {
        "id": "oqSsNfOE-0iq",
        "colab_type": "code",
        "outputId": "928d68c3-5d07-4b49-84a8-7b473eaba5b4",
        "colab": {
          "base_uri": "https://localhost:8080/",
          "height": 34
        }
      },
      "source": [
        "cek.max()"
      ],
      "execution_count": 0,
      "outputs": [
        {
          "output_type": "execute_result",
          "data": {
            "text/plain": [
              "6"
            ]
          },
          "metadata": {
            "tags": []
          },
          "execution_count": 52
        }
      ]
    },
    {
      "cell_type": "code",
      "metadata": {
        "id": "m1D7h88b-3GS",
        "colab_type": "code",
        "outputId": "0db71f0d-636e-436b-c47f-e19fb88b1dd4",
        "colab": {
          "base_uri": "https://localhost:8080/",
          "height": 34
        }
      },
      "source": [
        "cek.mean()"
      ],
      "execution_count": 0,
      "outputs": [
        {
          "output_type": "execute_result",
          "data": {
            "text/plain": [
              "3.111111111111111"
            ]
          },
          "metadata": {
            "tags": []
          },
          "execution_count": 55
        }
      ]
    },
    {
      "cell_type": "code",
      "metadata": {
        "id": "UopksqNL-8EK",
        "colab_type": "code",
        "outputId": "d3104018-fffc-496f-f854-be31a330e805",
        "colab": {
          "base_uri": "https://localhost:8080/",
          "height": 34
        }
      },
      "source": [
        "#standart deviasi\n",
        "cek.std()"
      ],
      "execution_count": 0,
      "outputs": [
        {
          "output_type": "execute_result",
          "data": {
            "text/plain": [
              "1.5947444549341472"
            ]
          },
          "metadata": {
            "tags": []
          },
          "execution_count": 56
        }
      ]
    },
    {
      "cell_type": "code",
      "metadata": {
        "id": "KK3VpMMN_Fz3",
        "colab_type": "code",
        "outputId": "a96fb910-5960-4992-ab49-5fa728df569f",
        "colab": {
          "base_uri": "https://localhost:8080/",
          "height": 34
        }
      },
      "source": [
        "#cek variasi\n",
        "cek.var()"
      ],
      "execution_count": 0,
      "outputs": [
        {
          "output_type": "execute_result",
          "data": {
            "text/plain": [
              "2.54320987654321"
            ]
          },
          "metadata": {
            "tags": []
          },
          "execution_count": 57
        }
      ]
    },
    {
      "cell_type": "code",
      "metadata": {
        "id": "WBKL2eyz_OS0",
        "colab_type": "code",
        "colab": {}
      },
      "source": [
        ""
      ],
      "execution_count": 0,
      "outputs": []
    }
  ]
}