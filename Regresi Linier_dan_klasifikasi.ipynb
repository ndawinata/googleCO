{
  "nbformat": 4,
  "nbformat_minor": 0,
  "metadata": {
    "colab": {
      "name": "Regresi dan klasifikasi.ipynb",
      "provenance": [],
      "collapsed_sections": [],
      "include_colab_link": true
    },
    "kernelspec": {
      "name": "python3",
      "display_name": "Python 3"
    }
  },
  "cells": [
    {
      "cell_type": "markdown",
      "metadata": {
        "id": "view-in-github",
        "colab_type": "text"
      },
      "source": [
        "<a href=\"https://colab.research.google.com/github/ndawinata/googleCO/blob/master/Regresi%20Linier_dan_klasifikasi.ipynb\" target=\"_parent\"><img src=\"https://colab.research.google.com/assets/colab-badge.svg\" alt=\"Open In Colab\"/></a>"
      ]
    },
    {
      "cell_type": "code",
      "metadata": {
        "id": "Z5rXDBblbXTe",
        "colab_type": "code",
        "colab": {}
      },
      "source": [
        "import vega_datasets\n",
        "import matplotlib.pyplot as plt"
      ],
      "execution_count": 0,
      "outputs": []
    },
    {
      "cell_type": "code",
      "metadata": {
        "id": "lPJH9rXUfUkb",
        "colab_type": "code",
        "colab": {
          "base_uri": "https://localhost:8080/",
          "height": 204
        },
        "outputId": "9d79d92e-968e-4e7d-d24d-dd6515ccecc1"
      },
      "source": [
        "cars = vega_datasets.data.cars()\n",
        "cars.head()"
      ],
      "execution_count": 2,
      "outputs": [
        {
          "output_type": "execute_result",
          "data": {
            "text/html": [
              "<div>\n",
              "<style scoped>\n",
              "    .dataframe tbody tr th:only-of-type {\n",
              "        vertical-align: middle;\n",
              "    }\n",
              "\n",
              "    .dataframe tbody tr th {\n",
              "        vertical-align: top;\n",
              "    }\n",
              "\n",
              "    .dataframe thead th {\n",
              "        text-align: right;\n",
              "    }\n",
              "</style>\n",
              "<table border=\"1\" class=\"dataframe\">\n",
              "  <thead>\n",
              "    <tr style=\"text-align: right;\">\n",
              "      <th></th>\n",
              "      <th>Acceleration</th>\n",
              "      <th>Cylinders</th>\n",
              "      <th>Displacement</th>\n",
              "      <th>Horsepower</th>\n",
              "      <th>Miles_per_Gallon</th>\n",
              "      <th>Name</th>\n",
              "      <th>Origin</th>\n",
              "      <th>Weight_in_lbs</th>\n",
              "      <th>Year</th>\n",
              "    </tr>\n",
              "  </thead>\n",
              "  <tbody>\n",
              "    <tr>\n",
              "      <th>0</th>\n",
              "      <td>12.0</td>\n",
              "      <td>8</td>\n",
              "      <td>307.0</td>\n",
              "      <td>130.0</td>\n",
              "      <td>18.0</td>\n",
              "      <td>chevrolet chevelle malibu</td>\n",
              "      <td>USA</td>\n",
              "      <td>3504</td>\n",
              "      <td>1970-01-01</td>\n",
              "    </tr>\n",
              "    <tr>\n",
              "      <th>1</th>\n",
              "      <td>11.5</td>\n",
              "      <td>8</td>\n",
              "      <td>350.0</td>\n",
              "      <td>165.0</td>\n",
              "      <td>15.0</td>\n",
              "      <td>buick skylark 320</td>\n",
              "      <td>USA</td>\n",
              "      <td>3693</td>\n",
              "      <td>1970-01-01</td>\n",
              "    </tr>\n",
              "    <tr>\n",
              "      <th>2</th>\n",
              "      <td>11.0</td>\n",
              "      <td>8</td>\n",
              "      <td>318.0</td>\n",
              "      <td>150.0</td>\n",
              "      <td>18.0</td>\n",
              "      <td>plymouth satellite</td>\n",
              "      <td>USA</td>\n",
              "      <td>3436</td>\n",
              "      <td>1970-01-01</td>\n",
              "    </tr>\n",
              "    <tr>\n",
              "      <th>3</th>\n",
              "      <td>12.0</td>\n",
              "      <td>8</td>\n",
              "      <td>304.0</td>\n",
              "      <td>150.0</td>\n",
              "      <td>16.0</td>\n",
              "      <td>amc rebel sst</td>\n",
              "      <td>USA</td>\n",
              "      <td>3433</td>\n",
              "      <td>1970-01-01</td>\n",
              "    </tr>\n",
              "    <tr>\n",
              "      <th>4</th>\n",
              "      <td>10.5</td>\n",
              "      <td>8</td>\n",
              "      <td>302.0</td>\n",
              "      <td>140.0</td>\n",
              "      <td>17.0</td>\n",
              "      <td>ford torino</td>\n",
              "      <td>USA</td>\n",
              "      <td>3449</td>\n",
              "      <td>1970-01-01</td>\n",
              "    </tr>\n",
              "  </tbody>\n",
              "</table>\n",
              "</div>"
            ],
            "text/plain": [
              "   Acceleration  Cylinders  Displacement  ...  Origin  Weight_in_lbs       Year\n",
              "0          12.0          8         307.0  ...     USA           3504 1970-01-01\n",
              "1          11.5          8         350.0  ...     USA           3693 1970-01-01\n",
              "2          11.0          8         318.0  ...     USA           3436 1970-01-01\n",
              "3          12.0          8         304.0  ...     USA           3433 1970-01-01\n",
              "4          10.5          8         302.0  ...     USA           3449 1970-01-01\n",
              "\n",
              "[5 rows x 9 columns]"
            ]
          },
          "metadata": {
            "tags": []
          },
          "execution_count": 2
        }
      ]
    },
    {
      "cell_type": "code",
      "metadata": {
        "id": "CA5MfTBFfeLf",
        "colab_type": "code",
        "colab": {
          "base_uri": "https://localhost:8080/",
          "height": 286
        },
        "outputId": "2f9b999f-408e-4bc8-d608-62bcfdb79c25"
      },
      "source": [
        "plt.scatter(cars['Weight_in_lbs'], cars['Miles_per_Gallon'] )"
      ],
      "execution_count": 4,
      "outputs": [
        {
          "output_type": "execute_result",
          "data": {
            "text/plain": [
              "<matplotlib.collections.PathCollection at 0x7fce124e0ac8>"
            ]
          },
          "metadata": {
            "tags": []
          },
          "execution_count": 4
        },
        {
          "output_type": "display_data",
          "data": {
            "image/png": "[encoded data removed]",
            "text/plain": [
              "<Figure size 432x288 with 1 Axes>"
            ]
          },
          "metadata": {
            "tags": []
          }
        }
      ]
    },
    {
      "cell_type": "code",
      "metadata": {
        "id": "w1omSJylf03G",
        "colab_type": "code",
        "colab": {
          "base_uri": "https://localhost:8080/",
          "height": 34
        },
        "outputId": "9e57a8e4-3c41-49d1-94dd-fe7fb724905c"
      },
      "source": [
        "cars['Miles_per_Gallon'].max()"
      ],
      "execution_count": 5,
      "outputs": [
        {
          "output_type": "execute_result",
          "data": {
            "text/plain": [
              "46.6"
            ]
          },
          "metadata": {
            "tags": []
          },
          "execution_count": 5
        }
      ]
    },
    {
      "cell_type": "code",
      "metadata": {
        "id": "jenfW-0QgctX",
        "colab_type": "code",
        "colab": {
          "base_uri": "https://localhost:8080/",
          "height": 34
        },
        "outputId": "1687fcff-6265-4526-e834-ed158a5f8ab1"
      },
      "source": [
        "cars['Miles_per_Gallon'].min()"
      ],
      "execution_count": 7,
      "outputs": [
        {
          "output_type": "execute_result",
          "data": {
            "text/plain": [
              "9.0"
            ]
          },
          "metadata": {
            "tags": []
          },
          "execution_count": 7
        }
      ]
    },
    {
      "cell_type": "code",
      "metadata": {
        "id": "ga_DmnzZgmEc",
        "colab_type": "code",
        "colab": {
          "base_uri": "https://localhost:8080/",
          "height": 34
        },
        "outputId": "8a4414c0-e70b-4be6-dbfa-e9bd710a5e01"
      },
      "source": [
        "cars['Weight_in_lbs'].max()"
      ],
      "execution_count": 8,
      "outputs": [
        {
          "output_type": "execute_result",
          "data": {
            "text/plain": [
              "5140"
            ]
          },
          "metadata": {
            "tags": []
          },
          "execution_count": 8
        }
      ]
    },
    {
      "cell_type": "code",
      "metadata": {
        "id": "B1cCd781gwUV",
        "colab_type": "code",
        "colab": {
          "base_uri": "https://localhost:8080/",
          "height": 34
        },
        "outputId": "dc0e37e0-ddca-414e-e040-22d9d1d7bf26"
      },
      "source": [
        "cars['Weight_in_lbs'].min()"
      ],
      "execution_count": 9,
      "outputs": [
        {
          "output_type": "execute_result",
          "data": {
            "text/plain": [
              "1613"
            ]
          },
          "metadata": {
            "tags": []
          },
          "execution_count": 9
        }
      ]
    },
    {
      "cell_type": "code",
      "metadata": {
        "id": "-plxW7VRgzyy",
        "colab_type": "code",
        "colab": {
          "base_uri": "https://localhost:8080/",
          "height": 80
        },
        "outputId": "84213c9d-a433-4a2c-c3b3-65c538a90e61"
      },
      "source": [
        "cars.loc[cars['Weight_in_lbs']>5000]"
      ],
      "execution_count": 10,
      "outputs": [
        {
          "output_type": "execute_result",
          "data": {
            "text/html": [
              "<div>\n",
              "<style scoped>\n",
              "    .dataframe tbody tr th:only-of-type {\n",
              "        vertical-align: middle;\n",
              "    }\n",
              "\n",
              "    .dataframe tbody tr th {\n",
              "        vertical-align: top;\n",
              "    }\n",
              "\n",
              "    .dataframe thead th {\n",
              "        text-align: right;\n",
              "    }\n",
              "</style>\n",
              "<table border=\"1\" class=\"dataframe\">\n",
              "  <thead>\n",
              "    <tr style=\"text-align: right;\">\n",
              "      <th></th>\n",
              "      <th>Acceleration</th>\n",
              "      <th>Cylinders</th>\n",
              "      <th>Displacement</th>\n",
              "      <th>Horsepower</th>\n",
              "      <th>Miles_per_Gallon</th>\n",
              "      <th>Name</th>\n",
              "      <th>Origin</th>\n",
              "      <th>Weight_in_lbs</th>\n",
              "      <th>Year</th>\n",
              "    </tr>\n",
              "  </thead>\n",
              "  <tbody>\n",
              "    <tr>\n",
              "      <th>51</th>\n",
              "      <td>12.0</td>\n",
              "      <td>8</td>\n",
              "      <td>400.0</td>\n",
              "      <td>175.0</td>\n",
              "      <td>13.0</td>\n",
              "      <td>pontiac safari (sw)</td>\n",
              "      <td>USA</td>\n",
              "      <td>5140</td>\n",
              "      <td>1971-01-01</td>\n",
              "    </tr>\n",
              "  </tbody>\n",
              "</table>\n",
              "</div>"
            ],
            "text/plain": [
              "    Acceleration  Cylinders  Displacement  ...  Origin  Weight_in_lbs       Year\n",
              "51          12.0          8         400.0  ...     USA           5140 1971-01-01\n",
              "\n",
              "[1 rows x 9 columns]"
            ]
          },
          "metadata": {
            "tags": []
          },
          "execution_count": 10
        }
      ]
    },
    {
      "cell_type": "code",
      "metadata": {
        "id": "rs69MfqxhMcS",
        "colab_type": "code",
        "colab": {}
      },
      "source": [
        "iris = vega_datasets.data.iris()"
      ],
      "execution_count": 0,
      "outputs": []
    },
    {
      "cell_type": "code",
      "metadata": {
        "id": "kyClS6Jyh1Yk",
        "colab_type": "code",
        "colab": {
          "base_uri": "https://localhost:8080/",
          "height": 204
        },
        "outputId": "304abbd5-d796-4a78-c79b-8d944c14cee3"
      },
      "source": [
        "iris.head()"
      ],
      "execution_count": 12,
      "outputs": [
        {
          "output_type": "execute_result",
          "data": {
            "text/html": [
              "<div>\n",
              "<style scoped>\n",
              "    .dataframe tbody tr th:only-of-type {\n",
              "        vertical-align: middle;\n",
              "    }\n",
              "\n",
              "    .dataframe tbody tr th {\n",
              "        vertical-align: top;\n",
              "    }\n",
              "\n",
              "    .dataframe thead th {\n",
              "        text-align: right;\n",
              "    }\n",
              "</style>\n",
              "<table border=\"1\" class=\"dataframe\">\n",
              "  <thead>\n",
              "    <tr style=\"text-align: right;\">\n",
              "      <th></th>\n",
              "      <th>petalLength</th>\n",
              "      <th>petalWidth</th>\n",
              "      <th>sepalLength</th>\n",
              "      <th>sepalWidth</th>\n",
              "      <th>species</th>\n",
              "    </tr>\n",
              "  </thead>\n",
              "  <tbody>\n",
              "    <tr>\n",
              "      <th>0</th>\n",
              "      <td>1.4</td>\n",
              "      <td>0.2</td>\n",
              "      <td>5.1</td>\n",
              "      <td>3.5</td>\n",
              "      <td>setosa</td>\n",
              "    </tr>\n",
              "    <tr>\n",
              "      <th>1</th>\n",
              "      <td>1.4</td>\n",
              "      <td>0.2</td>\n",
              "      <td>4.9</td>\n",
              "      <td>3.0</td>\n",
              "      <td>setosa</td>\n",
              "    </tr>\n",
              "    <tr>\n",
              "      <th>2</th>\n",
              "      <td>1.3</td>\n",
              "      <td>0.2</td>\n",
              "      <td>4.7</td>\n",
              "      <td>3.2</td>\n",
              "      <td>setosa</td>\n",
              "    </tr>\n",
              "    <tr>\n",
              "      <th>3</th>\n",
              "      <td>1.5</td>\n",
              "      <td>0.2</td>\n",
              "      <td>4.6</td>\n",
              "      <td>3.1</td>\n",
              "      <td>setosa</td>\n",
              "    </tr>\n",
              "    <tr>\n",
              "      <th>4</th>\n",
              "      <td>1.4</td>\n",
              "      <td>0.2</td>\n",
              "      <td>5.0</td>\n",
              "      <td>3.6</td>\n",
              "      <td>setosa</td>\n",
              "    </tr>\n",
              "  </tbody>\n",
              "</table>\n",
              "</div>"
            ],
            "text/plain": [
              "   petalLength  petalWidth  sepalLength  sepalWidth species\n",
              "0          1.4         0.2          5.1         3.5  setosa\n",
              "1          1.4         0.2          4.9         3.0  setosa\n",
              "2          1.3         0.2          4.7         3.2  setosa\n",
              "3          1.5         0.2          4.6         3.1  setosa\n",
              "4          1.4         0.2          5.0         3.6  setosa"
            ]
          },
          "metadata": {
            "tags": []
          },
          "execution_count": 12
        }
      ]
    },
    {
      "cell_type": "code",
      "metadata": {
        "id": "6RIDMIwfh4L7",
        "colab_type": "code",
        "colab": {
          "base_uri": "https://localhost:8080/",
          "height": 34
        },
        "outputId": "ffa126ed-c398-474f-bb49-be37ea57ee7d"
      },
      "source": [
        "set(iris['species'])"
      ],
      "execution_count": 13,
      "outputs": [
        {
          "output_type": "execute_result",
          "data": {
            "text/plain": [
              "{'setosa', 'versicolor', 'virginica'}"
            ]
          },
          "metadata": {
            "tags": []
          },
          "execution_count": 13
        }
      ]
    },
    {
      "cell_type": "code",
      "metadata": {
        "id": "o5sqKkNzjbzJ",
        "colab_type": "code",
        "colab": {}
      },
      "source": [
        "iris['color'] = iris['species']\n",
        "iris['color'] = iris['color'].replace('setosa','green').replace('versicolor','red').replace('virginica','blue')"
      ],
      "execution_count": 0,
      "outputs": []
    },
    {
      "cell_type": "code",
      "metadata": {
        "id": "kDe7fEuniMOk",
        "colab_type": "code",
        "colab": {
          "base_uri": "https://localhost:8080/",
          "height": 286
        },
        "outputId": "fb61ef6e-5261-4a85-93ab-c107614870cf"
      },
      "source": [
        "plt.scatter(iris['petalLength'], iris['sepalLength'], c=iris['color'])"
      ],
      "execution_count": 20,
      "outputs": [
        {
          "output_type": "execute_result",
          "data": {
            "text/plain": [
              "<matplotlib.collections.PathCollection at 0x7fce12290da0>"
            ]
          },
          "metadata": {
            "tags": []
          },
          "execution_count": 20
        },
        {
          "output_type": "display_data",
          "data": {
            "image/png": "[encoded data removed]",
            "text/plain": [
              "<Figure size 432x288 with 1 Axes>"
            ]
          },
          "metadata": {
            "tags": []
          }
        }
      ]
    },
    {
      "cell_type": "code",
      "metadata": {
        "id": "bpnsjPaDipNe",
        "colab_type": "code",
        "colab": {}
      },
      "source": [
        "####################### REGRESI LINIER SEDERHANA ##############################"
      ],
      "execution_count": 0,
      "outputs": []
    },
    {
      "cell_type": "code",
      "metadata": {
        "id": "pZ5UpBqOmCFT",
        "colab_type": "code",
        "colab": {}
      },
      "source": [
        "import seaborn as sn\n",
        "from sklearn import linear_model\n",
        "import numpy as np\n",
        "from sklearn.model_selection import train_test_split\n",
        "import sklearn.metrics as sm"
      ],
      "execution_count": 0,
      "outputs": []
    },
    {
      "cell_type": "code",
      "metadata": {
        "id": "Fqep6sfik5ze",
        "colab_type": "code",
        "colab": {
          "base_uri": "https://localhost:8080/",
          "height": 204
        },
        "outputId": "24c7b94a-e5ba-4a35-f1ff-1defb1a6fb0a"
      },
      "source": [
        "cr = vega_datasets.data.cars()\n",
        "cr.head()"
      ],
      "execution_count": 22,
      "outputs": [
        {
          "output_type": "execute_result",
          "data": {
            "text/html": [
              "<div>\n",
              "<style scoped>\n",
              "    .dataframe tbody tr th:only-of-type {\n",
              "        vertical-align: middle;\n",
              "    }\n",
              "\n",
              "    .dataframe tbody tr th {\n",
              "        vertical-align: top;\n",
              "    }\n",
              "\n",
              "    .dataframe thead th {\n",
              "        text-align: right;\n",
              "    }\n",
              "</style>\n",
              "<table border=\"1\" class=\"dataframe\">\n",
              "  <thead>\n",
              "    <tr style=\"text-align: right;\">\n",
              "      <th></th>\n",
              "      <th>Acceleration</th>\n",
              "      <th>Cylinders</th>\n",
              "      <th>Displacement</th>\n",
              "      <th>Horsepower</th>\n",
              "      <th>Miles_per_Gallon</th>\n",
              "      <th>Name</th>\n",
              "      <th>Origin</th>\n",
              "      <th>Weight_in_lbs</th>\n",
              "      <th>Year</th>\n",
              "    </tr>\n",
              "  </thead>\n",
              "  <tbody>\n",
              "    <tr>\n",
              "      <th>0</th>\n",
              "      <td>12.0</td>\n",
              "      <td>8</td>\n",
              "      <td>307.0</td>\n",
              "      <td>130.0</td>\n",
              "      <td>18.0</td>\n",
              "      <td>chevrolet chevelle malibu</td>\n",
              "      <td>USA</td>\n",
              "      <td>3504</td>\n",
              "      <td>1970-01-01</td>\n",
              "    </tr>\n",
              "    <tr>\n",
              "      <th>1</th>\n",
              "      <td>11.5</td>\n",
              "      <td>8</td>\n",
              "      <td>350.0</td>\n",
              "      <td>165.0</td>\n",
              "      <td>15.0</td>\n",
              "      <td>buick skylark 320</td>\n",
              "      <td>USA</td>\n",
              "      <td>3693</td>\n",
              "      <td>1970-01-01</td>\n",
              "    </tr>\n",
              "    <tr>\n",
              "      <th>2</th>\n",
              "      <td>11.0</td>\n",
              "      <td>8</td>\n",
              "      <td>318.0</td>\n",
              "      <td>150.0</td>\n",
              "      <td>18.0</td>\n",
              "      <td>plymouth satellite</td>\n",
              "      <td>USA</td>\n",
              "      <td>3436</td>\n",
              "      <td>1970-01-01</td>\n",
              "    </tr>\n",
              "    <tr>\n",
              "      <th>3</th>\n",
              "      <td>12.0</td>\n",
              "      <td>8</td>\n",
              "      <td>304.0</td>\n",
              "      <td>150.0</td>\n",
              "      <td>16.0</td>\n",
              "      <td>amc rebel sst</td>\n",
              "      <td>USA</td>\n",
              "      <td>3433</td>\n",
              "      <td>1970-01-01</td>\n",
              "    </tr>\n",
              "    <tr>\n",
              "      <th>4</th>\n",
              "      <td>10.5</td>\n",
              "      <td>8</td>\n",
              "      <td>302.0</td>\n",
              "      <td>140.0</td>\n",
              "      <td>17.0</td>\n",
              "      <td>ford torino</td>\n",
              "      <td>USA</td>\n",
              "      <td>3449</td>\n",
              "      <td>1970-01-01</td>\n",
              "    </tr>\n",
              "  </tbody>\n",
              "</table>\n",
              "</div>"
            ],
            "text/plain": [
              "   Acceleration  Cylinders  Displacement  ...  Origin  Weight_in_lbs       Year\n",
              "0          12.0          8         307.0  ...     USA           3504 1970-01-01\n",
              "1          11.5          8         350.0  ...     USA           3693 1970-01-01\n",
              "2          11.0          8         318.0  ...     USA           3436 1970-01-01\n",
              "3          12.0          8         304.0  ...     USA           3433 1970-01-01\n",
              "4          10.5          8         302.0  ...     USA           3449 1970-01-01\n",
              "\n",
              "[5 rows x 9 columns]"
            ]
          },
          "metadata": {
            "tags": []
          },
          "execution_count": 22
        }
      ]
    },
    {
      "cell_type": "code",
      "metadata": {
        "id": "xI2hqEHWlEfS",
        "colab_type": "code",
        "colab": {
          "base_uri": "https://localhost:8080/",
          "height": 286
        },
        "outputId": "f49fc91e-996c-4639-892f-4183990db1ea"
      },
      "source": [
        "plt.scatter(cr['Weight_in_lbs'], cr['Miles_per_Gallon'])"
      ],
      "execution_count": 23,
      "outputs": [
        {
          "output_type": "execute_result",
          "data": {
            "text/plain": [
              "<matplotlib.collections.PathCollection at 0x7fce121fc438>"
            ]
          },
          "metadata": {
            "tags": []
          },
          "execution_count": 23
        },
        {
          "output_type": "display_data",
          "data": {
            "image/png": "[encoded data removed]",
            "text/plain": [
              "<Figure size 432x288 with 1 Axes>"
            ]
          },
          "metadata": {
            "tags": []
          }
        }
      ]
    },
    {
      "cell_type": "code",
      "metadata": {
        "id": "O55NIH3_lcI8",
        "colab_type": "code",
        "colab": {
          "base_uri": "https://localhost:8080/",
          "height": 301
        },
        "outputId": "e64f265a-6a34-48d5-8921-1d265452c503"
      },
      "source": [
        "sn.regplot(cr['Weight_in_lbs'], cr['Miles_per_Gallon'])"
      ],
      "execution_count": 27,
      "outputs": [
        {
          "output_type": "execute_result",
          "data": {
            "text/plain": [
              "<matplotlib.axes._subplots.AxesSubplot at 0x7fce0875d780>"
            ]
          },
          "metadata": {
            "tags": []
          },
          "execution_count": 27
        },
        {
          "output_type": "display_data",
          "data": {
            "image/png": "[encoded data removed]",
            "text/plain": [
              "<Figure size 432x288 with 1 Axes>"
            ]
          },
          "metadata": {
            "tags": []
          }
        }
      ]
    },
    {
      "cell_type": "code",
      "metadata": {
        "id": "J80E9C1rl5XN",
        "colab_type": "code",
        "colab": {
          "base_uri": "https://localhost:8080/",
          "height": 34
        },
        "outputId": "563e3aae-920b-4625-8f81-d025f482b8aa"
      },
      "source": [
        "set(cr['Weight_in_lbs'].isna()) #cek data kosong => ternyata tidak ada"
      ],
      "execution_count": 29,
      "outputs": [
        {
          "output_type": "execute_result",
          "data": {
            "text/plain": [
              "{False}"
            ]
          },
          "metadata": {
            "tags": []
          },
          "execution_count": 29
        }
      ]
    },
    {
      "cell_type": "code",
      "metadata": {
        "id": "xn7EZYndnV5V",
        "colab_type": "code",
        "colab": {
          "base_uri": "https://localhost:8080/",
          "height": 34
        },
        "outputId": "a020f91d-161b-4bd5-cf53-aa27ec124c36"
      },
      "source": [
        "set(cr['Miles_per_Gallon'].isna()) #cek data kosong => ternyata ada"
      ],
      "execution_count": 30,
      "outputs": [
        {
          "output_type": "execute_result",
          "data": {
            "text/plain": [
              "{False, True}"
            ]
          },
          "metadata": {
            "tags": []
          },
          "execution_count": 30
        }
      ]
    },
    {
      "cell_type": "code",
      "metadata": {
        "id": "hCKpmTWnndlX",
        "colab_type": "code",
        "colab": {}
      },
      "source": [
        "x = cr['Weight_in_lbs']\n",
        "y = cr['Miles_per_Gallon']\n",
        "y = y.fillna(y.mean())  #isi y yang kosong dengan rata rata"
      ],
      "execution_count": 0,
      "outputs": []
    },
    {
      "cell_type": "code",
      "metadata": {
        "id": "ACTEFt5xoFZy",
        "colab_type": "code",
        "colab": {
          "base_uri": "https://localhost:8080/",
          "height": 34
        },
        "outputId": "2263501f-5a44-4634-c173-abce196271f4"
      },
      "source": [
        "set(y.isna()) #cek kosong apa udah terisi"
      ],
      "execution_count": 35,
      "outputs": [
        {
          "output_type": "execute_result",
          "data": {
            "text/plain": [
              "{False}"
            ]
          },
          "metadata": {
            "tags": []
          },
          "execution_count": 35
        }
      ]
    },
    {
      "cell_type": "code",
      "metadata": {
        "id": "YBMSewSrot0A",
        "colab_type": "code",
        "colab": {}
      },
      "source": [
        "x = np.array(x)\n",
        "y = np.array(y)"
      ],
      "execution_count": 0,
      "outputs": []
    },
    {
      "cell_type": "code",
      "metadata": {
        "id": "CM_hoGnMqFHu",
        "colab_type": "code",
        "colab": {
          "base_uri": "https://localhost:8080/",
          "height": 34
        },
        "outputId": "de49e29a-c09a-4e40-840d-1c43ff307f0a"
      },
      "source": [
        "x.shape #cek panjang data"
      ],
      "execution_count": 38,
      "outputs": [
        {
          "output_type": "execute_result",
          "data": {
            "text/plain": [
              "(406,)"
            ]
          },
          "metadata": {
            "tags": []
          },
          "execution_count": 38
        }
      ]
    },
    {
      "cell_type": "code",
      "metadata": {
        "id": "7KtFap1sqHRc",
        "colab_type": "code",
        "colab": {
          "base_uri": "https://localhost:8080/",
          "height": 646
        },
        "outputId": "ad2e42d3-db7c-4d68-dad7-c7193d89acc2"
      },
      "source": [
        "x"
      ],
      "execution_count": 41,
      "outputs": [
        {
          "output_type": "execute_result",
          "data": {
            "text/plain": [
              "array([3504, 3693, 3436, 3433, 3449, 4341, 4354, 4312, 4425, 3850, 3090,\n",
              "       4142, 4034, 4166, 3850, 3563, 3609, 3353, 3761, 3086, 2372, 2833,\n",
              "       2774, 2587, 2130, 1835, 2672, 2430, 2375, 2234, 2648, 4615, 4376,\n",
              "       4382, 4732, 2130, 2264, 2228, 2046, 1978, 2634, 3439, 3329, 3302,\n",
              "       3288, 4209, 4464, 4154, 4096, 4955, 4746, 5140, 2962, 2408, 3282,\n",
              "       3139, 2220, 2123, 2074, 2065, 1773, 1613, 1834, 1955, 2278, 2126,\n",
              "       2254, 2408, 2226, 4274, 4385, 4135, 4129, 3672, 4633, 4502, 4456,\n",
              "       4422, 2330, 3892, 4098, 4294, 4077, 2933, 2511, 2979, 2189, 2395,\n",
              "       2288, 2506, 2164, 2100, 4100, 3672, 3988, 4042, 3777, 4952, 4464,\n",
              "       4363, 4237, 4735, 4951, 3821, 3121, 3278, 2945, 3021, 2904, 1950,\n",
              "       4997, 4906, 4654, 4499, 2789, 2279, 2401, 2379, 2124, 2310, 2472,\n",
              "       2265, 4082, 4278, 1867, 2158, 2582, 2868, 3399, 2660, 2807, 3664,\n",
              "       3102, 2875, 2901, 3336, 1950, 2451, 1836, 2542, 3781, 3632, 3613,\n",
              "       4141, 4699, 4457, 4638, 4257, 2219, 1963, 2300, 1649, 2003, 2125,\n",
              "       2108, 2246, 2489, 2391, 2000, 3264, 3459, 3432, 3158, 4668, 4440,\n",
              "       4498, 4657, 3907, 3897, 3730, 3785, 3039, 3221, 3169, 2171, 2639,\n",
              "       2914, 2592, 2702, 2223, 2545, 2984, 1937, 3211, 2694, 2957, 2945,\n",
              "       2671, 1795, 2464, 2220, 2572, 2255, 2202, 4215, 4190, 3962, 4215,\n",
              "       3233, 3353, 3012, 3085, 2035, 2164, 1937, 1795, 3651, 3574, 3645,\n",
              "       3193, 1825, 1990, 2155, 2565, 3150, 3940, 3270, 2930, 3820, 4380,\n",
              "       4055, 3870, 3755, 2045, 2155, 1825, 2300, 1945, 3880, 4060, 4140,\n",
              "       4295, 3520, 3425, 3630, 3525, 4220, 4165, 4325, 4335, 1940, 2740,\n",
              "       2265, 2755, 2051, 2075, 1985, 2190, 2815, 2600, 2720, 1985, 1800,\n",
              "       1985, 2070, 1800, 3365, 3735, 3570, 3535, 3155, 2965, 2720, 3430,\n",
              "       3210, 3380, 3070, 3620, 3410, 3425, 3445, 3205, 4080, 2155, 2560,\n",
              "       2300, 2230, 2515, 2745, 2855, 2405, 2830, 3140, 2795, 3410, 1990,\n",
              "       2135, 3245, 2990, 2890, 3265, 3360, 3840, 3725, 3955, 3830, 4360,\n",
              "       4054, 3605, 3940, 1925, 1975, 1915, 2670, 3530, 3900, 3190, 3420,\n",
              "       2200, 2150, 2020, 2130, 2670, 2595, 2700, 2556, 2144, 1968, 2120,\n",
              "       2019, 2678, 2870, 3003, 3381, 2188, 2711, 2542, 2434, 2265, 2110,\n",
              "       2800, 2110, 2085, 2335, 2950, 3250, 1850, 1835, 2145, 1845, 2910,\n",
              "       2420, 2500, 2905, 2290, 2490, 2635, 2620, 2725, 2385, 1755, 1875,\n",
              "       1760, 2065, 1975, 2050, 1985, 2215, 2045, 2380, 2190, 2320, 2210,\n",
              "       2350, 2615, 2635, 3230, 2800, 3160, 2900, 2930, 3415, 3725, 3060,\n",
              "       3465, 2605, 2640, 2395, 2575, 2525, 2735, 2865, 3035, 1980, 2025,\n",
              "       1970, 2125, 2125, 2160, 2205, 2245, 1965, 1965, 1995, 2945, 3015,\n",
              "       2585, 2835, 2665, 2370, 2950, 2790, 2130, 2295, 2625, 2720])"
            ]
          },
          "metadata": {
            "tags": []
          },
          "execution_count": 41
        }
      ]
    },
    {
      "cell_type": "code",
      "metadata": {
        "id": "ih2JosAYq1hP",
        "colab_type": "code",
        "colab": {}
      },
      "source": [
        "x = x.reshape(len(x),1) #rubah shape dari array x\n",
        "y = y.reshape(len(y),1) #rubah shape dari array y"
      ],
      "execution_count": 0,
      "outputs": []
    },
    {
      "cell_type": "code",
      "metadata": {
        "id": "84LVGGVCrR7T",
        "colab_type": "code",
        "colab": {
          "base_uri": "https://localhost:8080/",
          "height": 34
        },
        "outputId": "5b78adc3-9703-4190-d461-2e4e6c0ff9c0"
      },
      "source": [
        "x.shape"
      ],
      "execution_count": 49,
      "outputs": [
        {
          "output_type": "execute_result",
          "data": {
            "text/plain": [
              "(406, 1)"
            ]
          },
          "metadata": {
            "tags": []
          },
          "execution_count": 49
        }
      ]
    },
    {
      "cell_type": "code",
      "metadata": {
        "id": "11aMSt2rrTor",
        "colab_type": "code",
        "colab": {
          "base_uri": "https://localhost:8080/",
          "height": 1000
        },
        "outputId": "39564bda-4ef3-4e71-ef7c-199c819cd3bc"
      },
      "source": [
        "x"
      ],
      "execution_count": 50,
      "outputs": [
        {
          "output_type": "execute_result",
          "data": {
            "text/plain": [
              "array([[3504],\n",
              "       [3693],\n",
              "       [3436],\n",
              "       [3433],\n",
              "       [3449],\n",
              "       [4341],\n",
              "       [4354],\n",
              "       [4312],\n",
              "       [4425],\n",
              "       [3850],\n",
              "       [3090],\n",
              "       [4142],\n",
              "       [4034],\n",
              "       [4166],\n",
              "       [3850],\n",
              "       [3563],\n",
              "       [3609],\n",
              "       [3353],\n",
              "       [3761],\n",
              "       [3086],\n",
              "       [2372],\n",
              "       [2833],\n",
              "       [2774],\n",
              "       [2587],\n",
              "       [2130],\n",
              "       [1835],\n",
              "       [2672],\n",
              "       [2430],\n",
              "       [2375],\n",
              "       [2234],\n",
              "       [2648],\n",
              "       [4615],\n",
              "       [4376],\n",
              "       [4382],\n",
              "       [4732],\n",
              "       [2130],\n",
              "       [2264],\n",
              "       [2228],\n",
              "       [2046],\n",
              "       [1978],\n",
              "       [2634],\n",
              "       [3439],\n",
              "       [3329],\n",
              "       [3302],\n",
              "       [3288],\n",
              "       [4209],\n",
              "       [4464],\n",
              "       [4154],\n",
              "       [4096],\n",
              "       [4955],\n",
              "       [4746],\n",
              "       [5140],\n",
              "       [2962],\n",
              "       [2408],\n",
              "       [3282],\n",
              "       [3139],\n",
              "       [2220],\n",
              "       [2123],\n",
              "       [2074],\n",
              "       [2065],\n",
              "       [1773],\n",
              "       [1613],\n",
              "       [1834],\n",
              "       [1955],\n",
              "       [2278],\n",
              "       [2126],\n",
              "       [2254],\n",
              "       [2408],\n",
              "       [2226],\n",
              "       [4274],\n",
              "       [4385],\n",
              "       [4135],\n",
              "       [4129],\n",
              "       [3672],\n",
              "       [4633],\n",
              "       [4502],\n",
              "       [4456],\n",
              "       [4422],\n",
              "       [2330],\n",
              "       [3892],\n",
              "       [4098],\n",
              "       [4294],\n",
              "       [4077],\n",
              "       [2933],\n",
              "       [2511],\n",
              "       [2979],\n",
              "       [2189],\n",
              "       [2395],\n",
              "       [2288],\n",
              "       [2506],\n",
              "       [2164],\n",
              "       [2100],\n",
              "       [4100],\n",
              "       [3672],\n",
              "       [3988],\n",
              "       [4042],\n",
              "       [3777],\n",
              "       [4952],\n",
              "       [4464],\n",
              "       [4363],\n",
              "       [4237],\n",
              "       [4735],\n",
              "       [4951],\n",
              "       [3821],\n",
              "       [3121],\n",
              "       [3278],\n",
              "       [2945],\n",
              "       [3021],\n",
              "       [2904],\n",
              "       [1950],\n",
              "       [4997],\n",
              "       [4906],\n",
              "       [4654],\n",
              "       [4499],\n",
              "       [2789],\n",
              "       [2279],\n",
              "       [2401],\n",
              "       [2379],\n",
              "       [2124],\n",
              "       [2310],\n",
              "       [2472],\n",
              "       [2265],\n",
              "       [4082],\n",
              "       [4278],\n",
              "       [1867],\n",
              "       [2158],\n",
              "       [2582],\n",
              "       [2868],\n",
              "       [3399],\n",
              "       [2660],\n",
              "       [2807],\n",
              "       [3664],\n",
              "       [3102],\n",
              "       [2875],\n",
              "       [2901],\n",
              "       [3336],\n",
              "       [1950],\n",
              "       [2451],\n",
              "       [1836],\n",
              "       [2542],\n",
              "       [3781],\n",
              "       [3632],\n",
              "       [3613],\n",
              "       [4141],\n",
              "       [4699],\n",
              "       [4457],\n",
              "       [4638],\n",
              "       [4257],\n",
              "       [2219],\n",
              "       [1963],\n",
              "       [2300],\n",
              "       [1649],\n",
              "       [2003],\n",
              "       [2125],\n",
              "       [2108],\n",
              "       [2246],\n",
              "       [2489],\n",
              "       [2391],\n",
              "       [2000],\n",
              "       [3264],\n",
              "       [3459],\n",
              "       [3432],\n",
              "       [3158],\n",
              "       [4668],\n",
              "       [4440],\n",
              "       [4498],\n",
              "       [4657],\n",
              "       [3907],\n",
              "       [3897],\n",
              "       [3730],\n",
              "       [3785],\n",
              "       [3039],\n",
              "       [3221],\n",
              "       [3169],\n",
              "       [2171],\n",
              "       [2639],\n",
              "       [2914],\n",
              "       [2592],\n",
              "       [2702],\n",
              "       [2223],\n",
              "       [2545],\n",
              "       [2984],\n",
              "       [1937],\n",
              "       [3211],\n",
              "       [2694],\n",
              "       [2957],\n",
              "       [2945],\n",
              "       [2671],\n",
              "       [1795],\n",
              "       [2464],\n",
              "       [2220],\n",
              "       [2572],\n",
              "       [2255],\n",
              "       [2202],\n",
              "       [4215],\n",
              "       [4190],\n",
              "       [3962],\n",
              "       [4215],\n",
              "       [3233],\n",
              "       [3353],\n",
              "       [3012],\n",
              "       [3085],\n",
              "       [2035],\n",
              "       [2164],\n",
              "       [1937],\n",
              "       [1795],\n",
              "       [3651],\n",
              "       [3574],\n",
              "       [3645],\n",
              "       [3193],\n",
              "       [1825],\n",
              "       [1990],\n",
              "       [2155],\n",
              "       [2565],\n",
              "       [3150],\n",
              "       [3940],\n",
              "       [3270],\n",
              "       [2930],\n",
              "       [3820],\n",
              "       [4380],\n",
              "       [4055],\n",
              "       [3870],\n",
              "       [3755],\n",
              "       [2045],\n",
              "       [2155],\n",
              "       [1825],\n",
              "       [2300],\n",
              "       [1945],\n",
              "       [3880],\n",
              "       [4060],\n",
              "       [4140],\n",
              "       [4295],\n",
              "       [3520],\n",
              "       [3425],\n",
              "       [3630],\n",
              "       [3525],\n",
              "       [4220],\n",
              "       [4165],\n",
              "       [4325],\n",
              "       [4335],\n",
              "       [1940],\n",
              "       [2740],\n",
              "       [2265],\n",
              "       [2755],\n",
              "       [2051],\n",
              "       [2075],\n",
              "       [1985],\n",
              "       [2190],\n",
              "       [2815],\n",
              "       [2600],\n",
              "       [2720],\n",
              "       [1985],\n",
              "       [1800],\n",
              "       [1985],\n",
              "       [2070],\n",
              "       [1800],\n",
              "       [3365],\n",
              "       [3735],\n",
              "       [3570],\n",
              "       [3535],\n",
              "       [3155],\n",
              "       [2965],\n",
              "       [2720],\n",
              "       [3430],\n",
              "       [3210],\n",
              "       [3380],\n",
              "       [3070],\n",
              "       [3620],\n",
              "       [3410],\n",
              "       [3425],\n",
              "       [3445],\n",
              "       [3205],\n",
              "       [4080],\n",
              "       [2155],\n",
              "       [2560],\n",
              "       [2300],\n",
              "       [2230],\n",
              "       [2515],\n",
              "       [2745],\n",
              "       [2855],\n",
              "       [2405],\n",
              "       [2830],\n",
              "       [3140],\n",
              "       [2795],\n",
              "       [3410],\n",
              "       [1990],\n",
              "       [2135],\n",
              "       [3245],\n",
              "       [2990],\n",
              "       [2890],\n",
              "       [3265],\n",
              "       [3360],\n",
              "       [3840],\n",
              "       [3725],\n",
              "       [3955],\n",
              "       [3830],\n",
              "       [4360],\n",
              "       [4054],\n",
              "       [3605],\n",
              "       [3940],\n",
              "       [1925],\n",
              "       [1975],\n",
              "       [1915],\n",
              "       [2670],\n",
              "       [3530],\n",
              "       [3900],\n",
              "       [3190],\n",
              "       [3420],\n",
              "       [2200],\n",
              "       [2150],\n",
              "       [2020],\n",
              "       [2130],\n",
              "       [2670],\n",
              "       [2595],\n",
              "       [2700],\n",
              "       [2556],\n",
              "       [2144],\n",
              "       [1968],\n",
              "       [2120],\n",
              "       [2019],\n",
              "       [2678],\n",
              "       [2870],\n",
              "       [3003],\n",
              "       [3381],\n",
              "       [2188],\n",
              "       [2711],\n",
              "       [2542],\n",
              "       [2434],\n",
              "       [2265],\n",
              "       [2110],\n",
              "       [2800],\n",
              "       [2110],\n",
              "       [2085],\n",
              "       [2335],\n",
              "       [2950],\n",
              "       [3250],\n",
              "       [1850],\n",
              "       [1835],\n",
              "       [2145],\n",
              "       [1845],\n",
              "       [2910],\n",
              "       [2420],\n",
              "       [2500],\n",
              "       [2905],\n",
              "       [2290],\n",
              "       [2490],\n",
              "       [2635],\n",
              "       [2620],\n",
              "       [2725],\n",
              "       [2385],\n",
              "       [1755],\n",
              "       [1875],\n",
              "       [1760],\n",
              "       [2065],\n",
              "       [1975],\n",
              "       [2050],\n",
              "       [1985],\n",
              "       [2215],\n",
              "       [2045],\n",
              "       [2380],\n",
              "       [2190],\n",
              "       [2320],\n",
              "       [2210],\n",
              "       [2350],\n",
              "       [2615],\n",
              "       [2635],\n",
              "       [3230],\n",
              "       [2800],\n",
              "       [3160],\n",
              "       [2900],\n",
              "       [2930],\n",
              "       [3415],\n",
              "       [3725],\n",
              "       [3060],\n",
              "       [3465],\n",
              "       [2605],\n",
              "       [2640],\n",
              "       [2395],\n",
              "       [2575],\n",
              "       [2525],\n",
              "       [2735],\n",
              "       [2865],\n",
              "       [3035],\n",
              "       [1980],\n",
              "       [2025],\n",
              "       [1970],\n",
              "       [2125],\n",
              "       [2125],\n",
              "       [2160],\n",
              "       [2205],\n",
              "       [2245],\n",
              "       [1965],\n",
              "       [1965],\n",
              "       [1995],\n",
              "       [2945],\n",
              "       [3015],\n",
              "       [2585],\n",
              "       [2835],\n",
              "       [2665],\n",
              "       [2370],\n",
              "       [2950],\n",
              "       [2790],\n",
              "       [2130],\n",
              "       [2295],\n",
              "       [2625],\n",
              "       [2720]])"
            ]
          },
          "metadata": {
            "tags": []
          },
          "execution_count": 50
        }
      ]
    },
    {
      "cell_type": "code",
      "metadata": {
        "id": "Rp3a9XNBrWIp",
        "colab_type": "code",
        "colab": {}
      },
      "source": [
        "X_train, X_test, y_train, y_test = train_test_split(x,y)"
      ],
      "execution_count": 0,
      "outputs": []
    },
    {
      "cell_type": "code",
      "metadata": {
        "id": "y9rx6-wYtE9N",
        "colab_type": "code",
        "colab": {
          "base_uri": "https://localhost:8080/",
          "height": 34
        },
        "outputId": "f3624322-731a-4c52-8c06-1d20d6d17894"
      },
      "source": [
        "len(x) #jumlah awal mula"
      ],
      "execution_count": 54,
      "outputs": [
        {
          "output_type": "execute_result",
          "data": {
            "text/plain": [
              "406"
            ]
          },
          "metadata": {
            "tags": []
          },
          "execution_count": 54
        }
      ]
    },
    {
      "cell_type": "code",
      "metadata": {
        "id": "ZraK80JPtHTr",
        "colab_type": "code",
        "colab": {
          "base_uri": "https://localhost:8080/",
          "height": 34
        },
        "outputId": "7e27452a-5f21-45fb-fc67-91566a837207"
      },
      "source": [
        "len(X_train)  #hasil split 304 untuk training"
      ],
      "execution_count": 55,
      "outputs": [
        {
          "output_type": "execute_result",
          "data": {
            "text/plain": [
              "304"
            ]
          },
          "metadata": {
            "tags": []
          },
          "execution_count": 55
        }
      ]
    },
    {
      "cell_type": "code",
      "metadata": {
        "id": "rGrJ8XxMtjrJ",
        "colab_type": "code",
        "colab": {
          "base_uri": "https://localhost:8080/",
          "height": 34
        },
        "outputId": "a28b271a-11f2-4675-efe6-78f5dc5341f9"
      },
      "source": [
        "len(X_test) #hasil split 102 untuk menguji/test "
      ],
      "execution_count": 56,
      "outputs": [
        {
          "output_type": "execute_result",
          "data": {
            "text/plain": [
              "102"
            ]
          },
          "metadata": {
            "tags": []
          },
          "execution_count": 56
        }
      ]
    },
    {
      "cell_type": "code",
      "metadata": {
        "id": "aO7yySl2tmRx",
        "colab_type": "code",
        "colab": {
          "base_uri": "https://localhost:8080/",
          "height": 34
        },
        "outputId": "cf10dc6a-36b6-41a1-ba3f-7050872744da"
      },
      "source": [
        "linear_reg = linear_model.LinearRegression()\n",
        "linear_reg.fit(X_train, y_train)"
      ],
      "execution_count": 57,
      "outputs": [
        {
          "output_type": "execute_result",
          "data": {
            "text/plain": [
              "LinearRegression(copy_X=True, fit_intercept=True, n_jobs=None, normalize=False)"
            ]
          },
          "metadata": {
            "tags": []
          },
          "execution_count": 57
        }
      ]
    },
    {
      "cell_type": "code",
      "metadata": {
        "id": "Urw-zMbQ58Rw",
        "colab_type": "code",
        "colab": {
          "base_uri": "https://localhost:8080/",
          "height": 286
        },
        "outputId": "a528f69d-be69-4c49-b40a-ba3497a6c8ca"
      },
      "source": [
        "y_test_pred = linear_reg.predict(X_test)\n",
        "plt.scatter(X_train, y_train,color='green')\n",
        "plt.plot(X_test, y_test_pred,color='red')"
      ],
      "execution_count": 59,
      "outputs": [
        {
          "output_type": "execute_result",
          "data": {
            "text/plain": [
              "[<matplotlib.lines.Line2D at 0x7fce051b7470>]"
            ]
          },
          "metadata": {
            "tags": []
          },
          "execution_count": 59
        },
        {
          "output_type": "display_data",
          "data": {
            "image/png": "[encoded data removed]",
            "text/plain": [
              "<Figure size 432x288 with 1 Axes>"
            ]
          },
          "metadata": {
            "tags": []
          }
        }
      ]
    },
    {
      "cell_type": "code",
      "metadata": {
        "id": "JP-xWGNh7Gol",
        "colab_type": "code",
        "colab": {
          "base_uri": "https://localhost:8080/",
          "height": 34
        },
        "outputId": "c5821d39-8d1b-4474-a72e-4c7a7d559705"
      },
      "source": [
        "print(sm.mean_absolute_error(y_test, y_test_pred))"
      ],
      "execution_count": 62,
      "outputs": [
        {
          "output_type": "stream",
          "text": [
            "3.146212786865748\n"
          ],
          "name": "stdout"
        }
      ]
    },
    {
      "cell_type": "code",
      "metadata": {
        "id": "S4HLEwta83sS",
        "colab_type": "code",
        "colab": {
          "base_uri": "https://localhost:8080/",
          "height": 34
        },
        "outputId": "2dee81de-9a49-43ae-d09b-f224a83daeaa"
      },
      "source": [
        "print(sm.mean_squared_error(y_test, y_test_pred))"
      ],
      "execution_count": 63,
      "outputs": [
        {
          "output_type": "stream",
          "text": [
            "18.41983346431122\n"
          ],
          "name": "stdout"
        }
      ]
    },
    {
      "cell_type": "code",
      "metadata": {
        "id": "iof7K_JY-coL",
        "colab_type": "code",
        "colab": {}
      },
      "source": [
        ""
      ],
      "execution_count": 0,
      "outputs": []
    }
  ]
}