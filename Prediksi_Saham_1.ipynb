{
  "nbformat": 4,
  "nbformat_minor": 0,
  "metadata": {
    "colab": {
      "name": "Prediksi Saham 1.ipynb",
      "provenance": [],
      "authorship_tag": "ABX9TyP0ASsnAfeI14BuE9idYTkR",
      "include_colab_link": true
    },
    "kernelspec": {
      "name": "python3",
      "display_name": "Python 3"
    }
  },
  "cells": [
    {
      "cell_type": "markdown",
      "metadata": {
        "id": "view-in-github",
        "colab_type": "text"
      },
      "source": [
        "<a href=\"https://colab.research.google.com/github/ndawinata/googleCO/blob/master/Prediksi_Saham_1.ipynb\" target=\"_parent\"><img src=\"https://colab.research.google.com/assets/colab-badge.svg\" alt=\"Open In Colab\"/></a>"
      ]
    },
    {
      "cell_type": "code",
      "metadata": {
        "id": "rUx2vmZJ0sCi",
        "colab_type": "code",
        "colab": {}
      },
      "source": [
        "import numpy as np\n",
        "import pandas as pd\n",
        "import pandas_datareader.data as web\n",
        "import datetime\n",
        "import math\n",
        "from sklearn import preprocessing\n",
        "import matplotlib.pyplot as plt"
      ],
      "execution_count": 213,
      "outputs": []
    },
    {
      "cell_type": "code",
      "metadata": {
        "id": "SffxfC2ZTDQK",
        "colab_type": "code",
        "colab": {}
      },
      "source": [
        "start = datetime.datetime(2018,1,1)\n",
        "end = datetime.datetime(2020,9,24)"
      ],
      "execution_count": 214,
      "outputs": []
    },
    {
      "cell_type": "code",
      "metadata": {
        "id": "a4homB5LToBU",
        "colab_type": "code",
        "colab": {}
      },
      "source": [
        "df = web.DataReader('SRIL.JK', 'yahoo', start=start, end=end)"
      ],
      "execution_count": 215,
      "outputs": []
    },
    {
      "cell_type": "code",
      "metadata": {
        "id": "juAZZjnXT60P",
        "colab_type": "code",
        "colab": {
          "base_uri": "https://localhost:8080/",
          "height": 235
        },
        "outputId": "629ad10d-7172-4593-f088-9c9953d746af"
      },
      "source": [
        "df.head()"
      ],
      "execution_count": 216,
      "outputs": [
        {
          "output_type": "execute_result",
          "data": {
            "text/html": [
              "<div>\n",
              "<style scoped>\n",
              "    .dataframe tbody tr th:only-of-type {\n",
              "        vertical-align: middle;\n",
              "    }\n",
              "\n",
              "    .dataframe tbody tr th {\n",
              "        vertical-align: top;\n",
              "    }\n",
              "\n",
              "    .dataframe thead th {\n",
              "        text-align: right;\n",
              "    }\n",
              "</style>\n",
              "<table border=\"1\" class=\"dataframe\">\n",
              "  <thead>\n",
              "    <tr style=\"text-align: right;\">\n",
              "      <th></th>\n",
              "      <th>High</th>\n",
              "      <th>Low</th>\n",
              "      <th>Open</th>\n",
              "      <th>Close</th>\n",
              "      <th>Volume</th>\n",
              "      <th>Adj Close</th>\n",
              "    </tr>\n",
              "    <tr>\n",
              "      <th>Date</th>\n",
              "      <th></th>\n",
              "      <th></th>\n",
              "      <th></th>\n",
              "      <th></th>\n",
              "      <th></th>\n",
              "      <th></th>\n",
              "    </tr>\n",
              "  </thead>\n",
              "  <tbody>\n",
              "    <tr>\n",
              "      <th>2018-01-01</th>\n",
              "      <td>380.0</td>\n",
              "      <td>380.0</td>\n",
              "      <td>380.0</td>\n",
              "      <td>380.0</td>\n",
              "      <td>0.0</td>\n",
              "      <td>362.486145</td>\n",
              "    </tr>\n",
              "    <tr>\n",
              "      <th>2018-01-02</th>\n",
              "      <td>378.0</td>\n",
              "      <td>372.0</td>\n",
              "      <td>376.0</td>\n",
              "      <td>372.0</td>\n",
              "      <td>40666000.0</td>\n",
              "      <td>354.854889</td>\n",
              "    </tr>\n",
              "    <tr>\n",
              "      <th>2018-01-03</th>\n",
              "      <td>374.0</td>\n",
              "      <td>366.0</td>\n",
              "      <td>372.0</td>\n",
              "      <td>366.0</td>\n",
              "      <td>77396300.0</td>\n",
              "      <td>349.131409</td>\n",
              "    </tr>\n",
              "    <tr>\n",
              "      <th>2018-01-04</th>\n",
              "      <td>374.0</td>\n",
              "      <td>364.0</td>\n",
              "      <td>364.0</td>\n",
              "      <td>368.0</td>\n",
              "      <td>220484400.0</td>\n",
              "      <td>351.039246</td>\n",
              "    </tr>\n",
              "    <tr>\n",
              "      <th>2018-01-05</th>\n",
              "      <td>372.0</td>\n",
              "      <td>368.0</td>\n",
              "      <td>370.0</td>\n",
              "      <td>370.0</td>\n",
              "      <td>28005200.0</td>\n",
              "      <td>352.947052</td>\n",
              "    </tr>\n",
              "  </tbody>\n",
              "</table>\n",
              "</div>"
            ],
            "text/plain": [
              "             High    Low   Open  Close       Volume   Adj Close\n",
              "Date                                                           \n",
              "2018-01-01  380.0  380.0  380.0  380.0          0.0  362.486145\n",
              "2018-01-02  378.0  372.0  376.0  372.0   40666000.0  354.854889\n",
              "2018-01-03  374.0  366.0  372.0  366.0   77396300.0  349.131409\n",
              "2018-01-04  374.0  364.0  364.0  368.0  220484400.0  351.039246\n",
              "2018-01-05  372.0  368.0  370.0  370.0   28005200.0  352.947052"
            ]
          },
          "metadata": {
            "tags": []
          },
          "execution_count": 216
        }
      ]
    },
    {
      "cell_type": "code",
      "metadata": {
        "id": "DYEIakU7VE41",
        "colab_type": "code",
        "colab": {
          "base_uri": "https://localhost:8080/",
          "height": 282
        },
        "outputId": "e33b9db0-e66c-4512-9c73-d6ab3779fa94"
      },
      "source": [
        "plt.plot(df['Adj Close'])"
      ],
      "execution_count": 217,
      "outputs": [
        {
          "output_type": "execute_result",
          "data": {
            "text/plain": [
              "[<matplotlib.lines.Line2D at 0x7f4219afc978>]"
            ]
          },
          "metadata": {
            "tags": []
          },
          "execution_count": 217
        },
        {
          "output_type": "display_data",
          "data": {
            "image/png": "[encoded data removed]",
            "text/plain": [
              "<Figure size 432x288 with 1 Axes>"
            ]
          },
          "metadata": {
            "tags": [],
            "needs_background": "light"
          }
        }
      ]
    },
    {
      "cell_type": "code",
      "metadata": {
        "id": "Z8NA4VRNVQ-M",
        "colab_type": "code",
        "colab": {}
      },
      "source": [
        ""
      ],
      "execution_count": 217,
      "outputs": []
    },
    {
      "cell_type": "markdown",
      "metadata": {
        "id": "TPVqBSJHVaEb",
        "colab_type": "text"
      },
      "source": [
        "## Fitur Enginering"
      ]
    },
    {
      "cell_type": "code",
      "metadata": {
        "id": "7FG8cOmVVjDr",
        "colab_type": "code",
        "colab": {}
      },
      "source": [
        "dfreg = df.loc[:,['Adj Close', 'Volume']]"
      ],
      "execution_count": 218,
      "outputs": []
    },
    {
      "cell_type": "code",
      "metadata": {
        "id": "ghM5mvTRWkWm",
        "colab_type": "code",
        "colab": {
          "base_uri": "https://localhost:8080/",
          "height": 235
        },
        "outputId": "f7ee5d30-e991-443b-cb55-e4277a4aa465"
      },
      "source": [
        "dfreg.head()"
      ],
      "execution_count": 219,
      "outputs": [
        {
          "output_type": "execute_result",
          "data": {
            "text/html": [
              "<div>\n",
              "<style scoped>\n",
              "    .dataframe tbody tr th:only-of-type {\n",
              "        vertical-align: middle;\n",
              "    }\n",
              "\n",
              "    .dataframe tbody tr th {\n",
              "        vertical-align: top;\n",
              "    }\n",
              "\n",
              "    .dataframe thead th {\n",
              "        text-align: right;\n",
              "    }\n",
              "</style>\n",
              "<table border=\"1\" class=\"dataframe\">\n",
              "  <thead>\n",
              "    <tr style=\"text-align: right;\">\n",
              "      <th></th>\n",
              "      <th>Adj Close</th>\n",
              "      <th>Volume</th>\n",
              "    </tr>\n",
              "    <tr>\n",
              "      <th>Date</th>\n",
              "      <th></th>\n",
              "      <th></th>\n",
              "    </tr>\n",
              "  </thead>\n",
              "  <tbody>\n",
              "    <tr>\n",
              "      <th>2018-01-01</th>\n",
              "      <td>362.486145</td>\n",
              "      <td>0.0</td>\n",
              "    </tr>\n",
              "    <tr>\n",
              "      <th>2018-01-02</th>\n",
              "      <td>354.854889</td>\n",
              "      <td>40666000.0</td>\n",
              "    </tr>\n",
              "    <tr>\n",
              "      <th>2018-01-03</th>\n",
              "      <td>349.131409</td>\n",
              "      <td>77396300.0</td>\n",
              "    </tr>\n",
              "    <tr>\n",
              "      <th>2018-01-04</th>\n",
              "      <td>351.039246</td>\n",
              "      <td>220484400.0</td>\n",
              "    </tr>\n",
              "    <tr>\n",
              "      <th>2018-01-05</th>\n",
              "      <td>352.947052</td>\n",
              "      <td>28005200.0</td>\n",
              "    </tr>\n",
              "  </tbody>\n",
              "</table>\n",
              "</div>"
            ],
            "text/plain": [
              "             Adj Close       Volume\n",
              "Date                               \n",
              "2018-01-01  362.486145          0.0\n",
              "2018-01-02  354.854889   40666000.0\n",
              "2018-01-03  349.131409   77396300.0\n",
              "2018-01-04  351.039246  220484400.0\n",
              "2018-01-05  352.947052   28005200.0"
            ]
          },
          "metadata": {
            "tags": []
          },
          "execution_count": 219
        }
      ]
    },
    {
      "cell_type": "code",
      "metadata": {
        "id": "2PpQ0zkBXMvj",
        "colab_type": "code",
        "colab": {
          "base_uri": "https://localhost:8080/",
          "height": 235
        },
        "outputId": "f929c61c-5662-4c89-fe43-a5a51975515a"
      },
      "source": [
        "dfreg['HL_PCT'] = (df['High'] - df['Low']) / df['Close'] * 100\n",
        "dfreg['PCT_Change'] = (df['Close'] - df['Open']) / df['Open'] * 100\n",
        "dfreg.head()"
      ],
      "execution_count": 220,
      "outputs": [
        {
          "output_type": "execute_result",
          "data": {
            "text/html": [
              "<div>\n",
              "<style scoped>\n",
              "    .dataframe tbody tr th:only-of-type {\n",
              "        vertical-align: middle;\n",
              "    }\n",
              "\n",
              "    .dataframe tbody tr th {\n",
              "        vertical-align: top;\n",
              "    }\n",
              "\n",
              "    .dataframe thead th {\n",
              "        text-align: right;\n",
              "    }\n",
              "</style>\n",
              "<table border=\"1\" class=\"dataframe\">\n",
              "  <thead>\n",
              "    <tr style=\"text-align: right;\">\n",
              "      <th></th>\n",
              "      <th>Adj Close</th>\n",
              "      <th>Volume</th>\n",
              "      <th>HL_PCT</th>\n",
              "      <th>PCT_Change</th>\n",
              "    </tr>\n",
              "    <tr>\n",
              "      <th>Date</th>\n",
              "      <th></th>\n",
              "      <th></th>\n",
              "      <th></th>\n",
              "      <th></th>\n",
              "    </tr>\n",
              "  </thead>\n",
              "  <tbody>\n",
              "    <tr>\n",
              "      <th>2018-01-01</th>\n",
              "      <td>362.486145</td>\n",
              "      <td>0.0</td>\n",
              "      <td>0.000000</td>\n",
              "      <td>0.000000</td>\n",
              "    </tr>\n",
              "    <tr>\n",
              "      <th>2018-01-02</th>\n",
              "      <td>354.854889</td>\n",
              "      <td>40666000.0</td>\n",
              "      <td>1.612903</td>\n",
              "      <td>-1.063830</td>\n",
              "    </tr>\n",
              "    <tr>\n",
              "      <th>2018-01-03</th>\n",
              "      <td>349.131409</td>\n",
              "      <td>77396300.0</td>\n",
              "      <td>2.185792</td>\n",
              "      <td>-1.612903</td>\n",
              "    </tr>\n",
              "    <tr>\n",
              "      <th>2018-01-04</th>\n",
              "      <td>351.039246</td>\n",
              "      <td>220484400.0</td>\n",
              "      <td>2.717391</td>\n",
              "      <td>1.098901</td>\n",
              "    </tr>\n",
              "    <tr>\n",
              "      <th>2018-01-05</th>\n",
              "      <td>352.947052</td>\n",
              "      <td>28005200.0</td>\n",
              "      <td>1.081081</td>\n",
              "      <td>0.000000</td>\n",
              "    </tr>\n",
              "  </tbody>\n",
              "</table>\n",
              "</div>"
            ],
            "text/plain": [
              "             Adj Close       Volume    HL_PCT  PCT_Change\n",
              "Date                                                     \n",
              "2018-01-01  362.486145          0.0  0.000000    0.000000\n",
              "2018-01-02  354.854889   40666000.0  1.612903   -1.063830\n",
              "2018-01-03  349.131409   77396300.0  2.185792   -1.612903\n",
              "2018-01-04  351.039246  220484400.0  2.717391    1.098901\n",
              "2018-01-05  352.947052   28005200.0  1.081081    0.000000"
            ]
          },
          "metadata": {
            "tags": []
          },
          "execution_count": 220
        }
      ]
    },
    {
      "cell_type": "code",
      "metadata": {
        "id": "U4fY9F61Zttk",
        "colab_type": "code",
        "colab": {}
      },
      "source": [
        "dfreg = dfreg.dropna()"
      ],
      "execution_count": 221,
      "outputs": []
    },
    {
      "cell_type": "code",
      "metadata": {
        "id": "HduS8OojbnOf",
        "colab_type": "code",
        "colab": {}
      },
      "source": [
        "forecast_out = 7\n",
        "# forecast 7 hari"
      ],
      "execution_count": 222,
      "outputs": []
    },
    {
      "cell_type": "code",
      "metadata": {
        "id": "uUpepTY0cDDZ",
        "colab_type": "code",
        "colab": {
          "base_uri": "https://localhost:8080/",
          "height": 328
        },
        "outputId": "9dd0b0a2-0628-4015-9f11-3a5b0447542b"
      },
      "source": [
        "dfreg['label'] = dfreg['Adj Close'].shift(-forecast_out)\n",
        "# geser dfreg 3 baris\n",
        "dfreg.head(8)"
      ],
      "execution_count": 223,
      "outputs": [
        {
          "output_type": "execute_result",
          "data": {
            "text/html": [
              "<div>\n",
              "<style scoped>\n",
              "    .dataframe tbody tr th:only-of-type {\n",
              "        vertical-align: middle;\n",
              "    }\n",
              "\n",
              "    .dataframe tbody tr th {\n",
              "        vertical-align: top;\n",
              "    }\n",
              "\n",
              "    .dataframe thead th {\n",
              "        text-align: right;\n",
              "    }\n",
              "</style>\n",
              "<table border=\"1\" class=\"dataframe\">\n",
              "  <thead>\n",
              "    <tr style=\"text-align: right;\">\n",
              "      <th></th>\n",
              "      <th>Adj Close</th>\n",
              "      <th>Volume</th>\n",
              "      <th>HL_PCT</th>\n",
              "      <th>PCT_Change</th>\n",
              "      <th>label</th>\n",
              "    </tr>\n",
              "    <tr>\n",
              "      <th>Date</th>\n",
              "      <th></th>\n",
              "      <th></th>\n",
              "      <th></th>\n",
              "      <th></th>\n",
              "      <th></th>\n",
              "    </tr>\n",
              "  </thead>\n",
              "  <tbody>\n",
              "    <tr>\n",
              "      <th>2018-01-01</th>\n",
              "      <td>362.486145</td>\n",
              "      <td>0.0</td>\n",
              "      <td>0.000000</td>\n",
              "      <td>0.000000</td>\n",
              "      <td>364.393951</td>\n",
              "    </tr>\n",
              "    <tr>\n",
              "      <th>2018-01-02</th>\n",
              "      <td>354.854889</td>\n",
              "      <td>40666000.0</td>\n",
              "      <td>1.612903</td>\n",
              "      <td>-1.063830</td>\n",
              "      <td>364.393951</td>\n",
              "    </tr>\n",
              "    <tr>\n",
              "      <th>2018-01-03</th>\n",
              "      <td>349.131409</td>\n",
              "      <td>77396300.0</td>\n",
              "      <td>2.185792</td>\n",
              "      <td>-1.612903</td>\n",
              "      <td>354.854889</td>\n",
              "    </tr>\n",
              "    <tr>\n",
              "      <th>2018-01-04</th>\n",
              "      <td>351.039246</td>\n",
              "      <td>220484400.0</td>\n",
              "      <td>2.717391</td>\n",
              "      <td>1.098901</td>\n",
              "      <td>354.854889</td>\n",
              "    </tr>\n",
              "    <tr>\n",
              "      <th>2018-01-05</th>\n",
              "      <td>352.947052</td>\n",
              "      <td>28005200.0</td>\n",
              "      <td>1.081081</td>\n",
              "      <td>0.000000</td>\n",
              "      <td>356.762665</td>\n",
              "    </tr>\n",
              "    <tr>\n",
              "      <th>2018-01-08</th>\n",
              "      <td>364.393951</td>\n",
              "      <td>122456900.0</td>\n",
              "      <td>2.617801</td>\n",
              "      <td>2.688172</td>\n",
              "      <td>360.578339</td>\n",
              "    </tr>\n",
              "    <tr>\n",
              "      <th>2018-01-09</th>\n",
              "      <td>358.670502</td>\n",
              "      <td>39375300.0</td>\n",
              "      <td>2.127660</td>\n",
              "      <td>-1.570681</td>\n",
              "      <td>356.762665</td>\n",
              "    </tr>\n",
              "    <tr>\n",
              "      <th>2018-01-10</th>\n",
              "      <td>364.393951</td>\n",
              "      <td>442801300.0</td>\n",
              "      <td>4.188482</td>\n",
              "      <td>1.595745</td>\n",
              "      <td>356.762665</td>\n",
              "    </tr>\n",
              "  </tbody>\n",
              "</table>\n",
              "</div>"
            ],
            "text/plain": [
              "             Adj Close       Volume    HL_PCT  PCT_Change       label\n",
              "Date                                                                 \n",
              "2018-01-01  362.486145          0.0  0.000000    0.000000  364.393951\n",
              "2018-01-02  354.854889   40666000.0  1.612903   -1.063830  364.393951\n",
              "2018-01-03  349.131409   77396300.0  2.185792   -1.612903  354.854889\n",
              "2018-01-04  351.039246  220484400.0  2.717391    1.098901  354.854889\n",
              "2018-01-05  352.947052   28005200.0  1.081081    0.000000  356.762665\n",
              "2018-01-08  364.393951  122456900.0  2.617801    2.688172  360.578339\n",
              "2018-01-09  358.670502   39375300.0  2.127660   -1.570681  356.762665\n",
              "2018-01-10  364.393951  442801300.0  4.188482    1.595745  356.762665"
            ]
          },
          "metadata": {
            "tags": []
          },
          "execution_count": 223
        }
      ]
    },
    {
      "cell_type": "code",
      "metadata": {
        "id": "h0GyKPLPdAK1",
        "colab_type": "code",
        "colab": {}
      },
      "source": [
        "X = np.array(dfreg.drop(['label'],1))"
      ],
      "execution_count": 224,
      "outputs": []
    },
    {
      "cell_type": "code",
      "metadata": {
        "id": "5jnTbl0Nfb9E",
        "colab_type": "code",
        "colab": {
          "base_uri": "https://localhost:8080/",
          "height": 71
        },
        "outputId": "fd862bda-3f5e-44ef-c7d9-205d12d5127a"
      },
      "source": [
        "X = preprocessing.scale(X)"
      ],
      "execution_count": 225,
      "outputs": [
        {
          "output_type": "stream",
          "text": [
            "/usr/local/lib/python3.6/dist-packages/sklearn/preprocessing/_data.py:173: UserWarning: Numerical issues were encountered when centering the data and might not be solved. Dataset may contain too large values. You may need to prescale your features.\n",
            "  warnings.warn(\"Numerical issues were encountered \"\n"
          ],
          "name": "stderr"
        }
      ]
    },
    {
      "cell_type": "code",
      "metadata": {
        "id": "w3mFR0qyfsZf",
        "colab_type": "code",
        "colab": {}
      },
      "source": [
        "X_lately = X[-forecast_out:]\n",
        "X = X[:-forecast_out]"
      ],
      "execution_count": 226,
      "outputs": []
    },
    {
      "cell_type": "code",
      "metadata": {
        "id": "ZT9PZHgPgE76",
        "colab_type": "code",
        "colab": {}
      },
      "source": [
        "y = np.array(dfreg['label'])\n",
        "y = y[:-forecast_out]"
      ],
      "execution_count": 227,
      "outputs": []
    },
    {
      "cell_type": "code",
      "metadata": {
        "id": "uWzBCPVFgc8N",
        "colab_type": "code",
        "colab": {}
      },
      "source": [
        "X_train = X\n",
        "y_train = y"
      ],
      "execution_count": 228,
      "outputs": []
    },
    {
      "cell_type": "code",
      "metadata": {
        "id": "vQo1BF3miJOX",
        "colab_type": "code",
        "colab": {}
      },
      "source": [
        "from sklearn.model_selection import train_test_split\n",
        "X_train, X_test, y_train, y_test = train_test_split(X_train, y_train, test_size = 0.2, random_state = 43)"
      ],
      "execution_count": 229,
      "outputs": []
    },
    {
      "cell_type": "code",
      "metadata": {
        "id": "n_GtlW_4gz3R",
        "colab_type": "code",
        "colab": {}
      },
      "source": [
        "from sklearn.linear_model import LinearRegression\n",
        "from sklearn.neighbors import KNeighborsRegressor\n",
        "from sklearn.linear_model import Ridge\n",
        "from sklearn.preprocessing import PolynomialFeatures\n",
        "from sklearn.pipeline import make_pipeline"
      ],
      "execution_count": 230,
      "outputs": []
    },
    {
      "cell_type": "code",
      "metadata": {
        "id": "-u1sQNRyhHT3",
        "colab_type": "code",
        "colab": {
          "base_uri": "https://localhost:8080/",
          "height": 34
        },
        "outputId": "079ef1ae-b717-45e5-a01d-8966a443838c"
      },
      "source": [
        "clfreg = LinearRegression()\n",
        "clfreg.fit(X_train, y_train)"
      ],
      "execution_count": 231,
      "outputs": [
        {
          "output_type": "execute_result",
          "data": {
            "text/plain": [
              "LinearRegression(copy_X=True, fit_intercept=True, n_jobs=None, normalize=False)"
            ]
          },
          "metadata": {
            "tags": []
          },
          "execution_count": 231
        }
      ]
    },
    {
      "cell_type": "code",
      "metadata": {
        "id": "z3zPgFHcsaG-",
        "colab_type": "code",
        "colab": {
          "base_uri": "https://localhost:8080/",
          "height": 170
        },
        "outputId": "10242762-ad6d-42b6-a6c7-b750a804741d"
      },
      "source": [
        "# Quadratic Regression 2\n",
        "clfpoly2 = make_pipeline(PolynomialFeatures(2), Ridge())\n",
        "clfpoly2.fit(X_train, y_train)\n",
        "\n",
        "# Quadratic Regression 3\n",
        "clfpoly3 = make_pipeline(PolynomialFeatures(3), Ridge())\n",
        "clfpoly3.fit(X_train, y_train)"
      ],
      "execution_count": 232,
      "outputs": [
        {
          "output_type": "execute_result",
          "data": {
            "text/plain": [
              "Pipeline(memory=None,\n",
              "         steps=[('polynomialfeatures',\n",
              "                 PolynomialFeatures(degree=3, include_bias=True,\n",
              "                                    interaction_only=False, order='C')),\n",
              "                ('ridge',\n",
              "                 Ridge(alpha=1.0, copy_X=True, fit_intercept=True,\n",
              "                       max_iter=None, normalize=False, random_state=None,\n",
              "                       solver='auto', tol=0.001))],\n",
              "         verbose=False)"
            ]
          },
          "metadata": {
            "tags": []
          },
          "execution_count": 232
        }
      ]
    },
    {
      "cell_type": "code",
      "metadata": {
        "id": "QVvV2iLpo1_O",
        "colab_type": "code",
        "colab": {
          "base_uri": "https://localhost:8080/",
          "height": 68
        },
        "outputId": "68beacf0-5db4-465e-e5df-8cb91c746034"
      },
      "source": [
        "clfknn = KNeighborsRegressor(n_neighbors=1)\n",
        "clfknn.fit(X_train, y_train)"
      ],
      "execution_count": 233,
      "outputs": [
        {
          "output_type": "execute_result",
          "data": {
            "text/plain": [
              "KNeighborsRegressor(algorithm='auto', leaf_size=30, metric='minkowski',\n",
              "                    metric_params=None, n_jobs=None, n_neighbors=1, p=2,\n",
              "                    weights='uniform')"
            ]
          },
          "metadata": {
            "tags": []
          },
          "execution_count": 233
        }
      ]
    },
    {
      "cell_type": "code",
      "metadata": {
        "id": "I-WgygaQh04D",
        "colab_type": "code",
        "colab": {
          "base_uri": "https://localhost:8080/",
          "height": 34
        },
        "outputId": "6f88842d-680c-4ba9-8290-97ec64c3f233"
      },
      "source": [
        "clfreg.score(X_test, y_test)"
      ],
      "execution_count": 234,
      "outputs": [
        {
          "output_type": "execute_result",
          "data": {
            "text/plain": [
              "0.9603463771435631"
            ]
          },
          "metadata": {
            "tags": []
          },
          "execution_count": 234
        }
      ]
    },
    {
      "cell_type": "code",
      "metadata": {
        "id": "3mxKeSXnjaUL",
        "colab_type": "code",
        "colab": {}
      },
      "source": [
        "clf = clfknn\n",
        "# clfknn dapat diganti clfreg atau clfknn tergantung kebutuhan pake regresi, knn, atau clfpoly2/clfpoly3"
      ],
      "execution_count": 235,
      "outputs": []
    },
    {
      "cell_type": "code",
      "metadata": {
        "id": "L7khw4RfjwMn",
        "colab_type": "code",
        "colab": {
          "base_uri": "https://localhost:8080/",
          "height": 136
        },
        "outputId": "6437dd6f-6763-421a-8197-02a72084caff"
      },
      "source": [
        "X_lately"
      ],
      "execution_count": 236,
      "outputs": [
        {
          "output_type": "execute_result",
          "data": {
            "text/plain": [
              "array([[-1.38004911, -0.36402094, -0.36600028,  0.11348271],\n",
              "       [-1.41112262, -0.34613081,  0.03825021, -0.33428474],\n",
              "       [-1.41112262, -0.36478865, -0.75470268,  0.11348271],\n",
              "       [-1.44219613, -0.3374666 , -0.1500761 , -0.33871808],\n",
              "       [-1.4888064 , -0.35145277,  0.88151737, -0.57160149],\n",
              "       [-1.55095342, -0.35014436,  0.71616331, -1.03985769],\n",
              "       [-1.61310044, -0.34123861,  0.96755744, -0.83309304]])"
            ]
          },
          "metadata": {
            "tags": []
          },
          "execution_count": 236
        }
      ]
    },
    {
      "cell_type": "code",
      "metadata": {
        "id": "9-A1Bewkj9Cy",
        "colab_type": "code",
        "colab": {
          "base_uri": "https://localhost:8080/",
          "height": 51
        },
        "outputId": "73d431b8-adcd-4bbf-8ecd-6787665363d7"
      },
      "source": [
        "clf.predict(X_lately)"
      ],
      "execution_count": 237,
      "outputs": [
        {
          "output_type": "execute_result",
          "data": {
            "text/plain": [
              "array([196.        , 172.14355469, 192.        , 193.        ,\n",
              "       192.04455566, 189.        , 202.        ])"
            ]
          },
          "metadata": {
            "tags": []
          },
          "execution_count": 237
        }
      ]
    },
    {
      "cell_type": "code",
      "metadata": {
        "id": "aRlMiE89kfsZ",
        "colab_type": "code",
        "colab": {}
      },
      "source": [
        "forecast_set = clf.predict(X_lately)\n",
        "dfreg['Forecast'] = np.nan"
      ],
      "execution_count": 238,
      "outputs": []
    },
    {
      "cell_type": "code",
      "metadata": {
        "id": "oDaXd75Ak_fD",
        "colab_type": "code",
        "colab": {}
      },
      "source": [
        "last_date = dfreg.iloc[-1].name\n",
        "last_unix = last_date\n",
        "next_unix = last_unix + datetime.timedelta(days=1)"
      ],
      "execution_count": 239,
      "outputs": []
    },
    {
      "cell_type": "code",
      "metadata": {
        "id": "xYlCjjxSmx4y",
        "colab_type": "code",
        "colab": {}
      },
      "source": [
        "for i in forecast_set:\n",
        "  next_date = next_unix\n",
        "  next_unix += datetime.timedelta(days=1)\n",
        "  dfreg.loc[next_date] = [np.nan for _ in range(len(dfreg.columns)-1)] + [i]"
      ],
      "execution_count": 240,
      "outputs": []
    },
    {
      "cell_type": "code",
      "metadata": {
        "id": "DdU4pdgRnFiT",
        "colab_type": "code",
        "colab": {
          "base_uri": "https://localhost:8080/",
          "height": 390
        },
        "outputId": "5184c75b-487f-4a80-8fa5-f55811989ed7"
      },
      "source": [
        "dfreg.tail(10)"
      ],
      "execution_count": 241,
      "outputs": [
        {
          "output_type": "execute_result",
          "data": {
            "text/html": [
              "<div>\n",
              "<style scoped>\n",
              "    .dataframe tbody tr th:only-of-type {\n",
              "        vertical-align: middle;\n",
              "    }\n",
              "\n",
              "    .dataframe tbody tr th {\n",
              "        vertical-align: top;\n",
              "    }\n",
              "\n",
              "    .dataframe thead th {\n",
              "        text-align: right;\n",
              "    }\n",
              "</style>\n",
              "<table border=\"1\" class=\"dataframe\">\n",
              "  <thead>\n",
              "    <tr style=\"text-align: right;\">\n",
              "      <th></th>\n",
              "      <th>Adj Close</th>\n",
              "      <th>Volume</th>\n",
              "      <th>HL_PCT</th>\n",
              "      <th>PCT_Change</th>\n",
              "      <th>label</th>\n",
              "      <th>Forecast</th>\n",
              "    </tr>\n",
              "    <tr>\n",
              "      <th>Date</th>\n",
              "      <th></th>\n",
              "      <th></th>\n",
              "      <th></th>\n",
              "      <th></th>\n",
              "      <th></th>\n",
              "      <th></th>\n",
              "    </tr>\n",
              "  </thead>\n",
              "  <tbody>\n",
              "    <tr>\n",
              "      <th>2020-09-22</th>\n",
              "      <td>197.0</td>\n",
              "      <td>13520000.0</td>\n",
              "      <td>5.076142</td>\n",
              "      <td>-1.500000</td>\n",
              "      <td>NaN</td>\n",
              "      <td>NaN</td>\n",
              "    </tr>\n",
              "    <tr>\n",
              "      <th>2020-09-23</th>\n",
              "      <td>193.0</td>\n",
              "      <td>14005900.0</td>\n",
              "      <td>4.663212</td>\n",
              "      <td>-2.525253</td>\n",
              "      <td>NaN</td>\n",
              "      <td>NaN</td>\n",
              "    </tr>\n",
              "    <tr>\n",
              "      <th>2020-09-24</th>\n",
              "      <td>189.0</td>\n",
              "      <td>17313200.0</td>\n",
              "      <td>5.291005</td>\n",
              "      <td>-2.072539</td>\n",
              "      <td>NaN</td>\n",
              "      <td>NaN</td>\n",
              "    </tr>\n",
              "    <tr>\n",
              "      <th>2020-09-25</th>\n",
              "      <td>NaN</td>\n",
              "      <td>NaN</td>\n",
              "      <td>NaN</td>\n",
              "      <td>NaN</td>\n",
              "      <td>NaN</td>\n",
              "      <td>196.000000</td>\n",
              "    </tr>\n",
              "    <tr>\n",
              "      <th>2020-09-26</th>\n",
              "      <td>NaN</td>\n",
              "      <td>NaN</td>\n",
              "      <td>NaN</td>\n",
              "      <td>NaN</td>\n",
              "      <td>NaN</td>\n",
              "      <td>172.143555</td>\n",
              "    </tr>\n",
              "    <tr>\n",
              "      <th>2020-09-27</th>\n",
              "      <td>NaN</td>\n",
              "      <td>NaN</td>\n",
              "      <td>NaN</td>\n",
              "      <td>NaN</td>\n",
              "      <td>NaN</td>\n",
              "      <td>192.000000</td>\n",
              "    </tr>\n",
              "    <tr>\n",
              "      <th>2020-09-28</th>\n",
              "      <td>NaN</td>\n",
              "      <td>NaN</td>\n",
              "      <td>NaN</td>\n",
              "      <td>NaN</td>\n",
              "      <td>NaN</td>\n",
              "      <td>193.000000</td>\n",
              "    </tr>\n",
              "    <tr>\n",
              "      <th>2020-09-29</th>\n",
              "      <td>NaN</td>\n",
              "      <td>NaN</td>\n",
              "      <td>NaN</td>\n",
              "      <td>NaN</td>\n",
              "      <td>NaN</td>\n",
              "      <td>192.044556</td>\n",
              "    </tr>\n",
              "    <tr>\n",
              "      <th>2020-09-30</th>\n",
              "      <td>NaN</td>\n",
              "      <td>NaN</td>\n",
              "      <td>NaN</td>\n",
              "      <td>NaN</td>\n",
              "      <td>NaN</td>\n",
              "      <td>189.000000</td>\n",
              "    </tr>\n",
              "    <tr>\n",
              "      <th>2020-10-01</th>\n",
              "      <td>NaN</td>\n",
              "      <td>NaN</td>\n",
              "      <td>NaN</td>\n",
              "      <td>NaN</td>\n",
              "      <td>NaN</td>\n",
              "      <td>202.000000</td>\n",
              "    </tr>\n",
              "  </tbody>\n",
              "</table>\n",
              "</div>"
            ],
            "text/plain": [
              "            Adj Close      Volume    HL_PCT  PCT_Change  label    Forecast\n",
              "Date                                                                      \n",
              "2020-09-22      197.0  13520000.0  5.076142   -1.500000    NaN         NaN\n",
              "2020-09-23      193.0  14005900.0  4.663212   -2.525253    NaN         NaN\n",
              "2020-09-24      189.0  17313200.0  5.291005   -2.072539    NaN         NaN\n",
              "2020-09-25        NaN         NaN       NaN         NaN    NaN  196.000000\n",
              "2020-09-26        NaN         NaN       NaN         NaN    NaN  172.143555\n",
              "2020-09-27        NaN         NaN       NaN         NaN    NaN  192.000000\n",
              "2020-09-28        NaN         NaN       NaN         NaN    NaN  193.000000\n",
              "2020-09-29        NaN         NaN       NaN         NaN    NaN  192.044556\n",
              "2020-09-30        NaN         NaN       NaN         NaN    NaN  189.000000\n",
              "2020-10-01        NaN         NaN       NaN         NaN    NaN  202.000000"
            ]
          },
          "metadata": {
            "tags": []
          },
          "execution_count": 241
        }
      ]
    },
    {
      "cell_type": "code",
      "metadata": {
        "id": "iAHsWJ02nxg6",
        "colab_type": "code",
        "colab": {
          "base_uri": "https://localhost:8080/",
          "height": 285
        },
        "outputId": "10bafe54-3fba-4007-9afa-8c43cf0d268e"
      },
      "source": [
        "dfreg['Adj Close'].tail(50).plot()\n",
        "dfreg['Forecast'].tail(50).plot()\n",
        "plt.legend(loc=1)\n",
        "plt.xlabel('Date')\n",
        "plt.ylabel('Price')\n",
        "plt.show()"
      ],
      "execution_count": 242,
      "outputs": [
        {
          "output_type": "display_data",
          "data": {
            "image/png": "[encoded data removed]",
            "text/plain": [
              "<Figure size 432x288 with 1 Axes>"
            ]
          },
          "metadata": {
            "tags": [],
            "needs_background": "light"
          }
        }
      ]
    },
    {
      "cell_type": "code",
      "metadata": {
        "id": "xGCot-TRpKLK",
        "colab_type": "code",
        "colab": {}
      },
      "source": [
        ""
      ],
      "execution_count": 242,
      "outputs": []
    }
  ]
}