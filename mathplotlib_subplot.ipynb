{
  "nbformat": 4,
  "nbformat_minor": 0,
  "metadata": {
    "colab": {
      "name": "mathplotlib subplot.ipynb",
      "provenance": [],
      "collapsed_sections": [],
      "include_colab_link": true
    },
    "kernelspec": {
      "name": "python3",
      "display_name": "Python 3"
    }
  },
  "cells": [
    {
      "cell_type": "markdown",
      "metadata": {
        "id": "view-in-github",
        "colab_type": "text"
      },
      "source": [
        "<a href=\"https://colab.research.google.com/github/ndawinata/googleCO/blob/master/mathplotlib_subplot.ipynb\" target=\"_parent\"><img src=\"https://colab.research.google.com/assets/colab-badge.svg\" alt=\"Open In Colab\"/></a>"
      ]
    },
    {
      "cell_type": "code",
      "metadata": {
        "id": "-Ao_ORtEAhcy",
        "colab_type": "code",
        "colab": {}
      },
      "source": [
        "import matplotlib.pyplot as plt\n",
        "import numpy as np"
      ],
      "execution_count": 0,
      "outputs": []
    },
    {
      "cell_type": "code",
      "metadata": {
        "id": "piBK3fgeP4gb",
        "colab_type": "code",
        "colab": {}
      },
      "source": [
        "x = np.linspace(0,30,30)\n",
        "y = np.random.randint(0,40,10) #10 = jumlah"
      ],
      "execution_count": 0,
      "outputs": []
    },
    {
      "cell_type": "code",
      "metadata": {
        "id": "3S4NvgJORO8q",
        "colab_type": "code",
        "colab": {
          "base_uri": "https://localhost:8080/",
          "height": 119
        },
        "outputId": "aad9256a-b197-46aa-9714-23c327fcbbf9"
      },
      "source": [
        "x"
      ],
      "execution_count": 12,
      "outputs": [
        {
          "output_type": "execute_result",
          "data": {
            "text/plain": [
              "array([ 0.        ,  1.03448276,  2.06896552,  3.10344828,  4.13793103,\n",
              "        5.17241379,  6.20689655,  7.24137931,  8.27586207,  9.31034483,\n",
              "       10.34482759, 11.37931034, 12.4137931 , 13.44827586, 14.48275862,\n",
              "       15.51724138, 16.55172414, 17.5862069 , 18.62068966, 19.65517241,\n",
              "       20.68965517, 21.72413793, 22.75862069, 23.79310345, 24.82758621,\n",
              "       25.86206897, 26.89655172, 27.93103448, 28.96551724, 30.        ])"
            ]
          },
          "metadata": {
            "tags": []
          },
          "execution_count": 12
        }
      ]
    },
    {
      "cell_type": "code",
      "metadata": {
        "id": "SwCCvc94RQSo",
        "colab_type": "code",
        "colab": {
          "base_uri": "https://localhost:8080/",
          "height": 269
        },
        "outputId": "b2616733-8bfd-4a35-af2c-42c178fa4eb2"
      },
      "source": [
        "fig , axes = plt.subplots(nrows = 2, ncols=1)"
      ],
      "execution_count": 13,
      "outputs": [
        {
          "output_type": "display_data",
          "data": {
            "image/png": "[encoded data removed]",
            "text/plain": [
              "<Figure size 432x288 with 2 Axes>"
            ]
          },
          "metadata": {
            "tags": []
          }
        }
      ]
    },
    {
      "cell_type": "code",
      "metadata": {
        "id": "uY9NIxcOXvWc",
        "colab_type": "code",
        "colab": {
          "base_uri": "https://localhost:8080/",
          "height": 269
        },
        "outputId": "e63f8849-12b2-4c9b-e0bf-937729952f9e"
      },
      "source": [
        "fig , axes = plt.subplots(nrows = 1, ncols=2)"
      ],
      "execution_count": 14,
      "outputs": [
        {
          "output_type": "display_data",
          "data": {
            "image/png": "[encoded data removed]",
            "text/plain": [
              "<Figure size 432x288 with 2 Axes>"
            ]
          },
          "metadata": {
            "tags": []
          }
        }
      ]
    },
    {
      "cell_type": "code",
      "metadata": {
        "id": "xBierqgYX03_",
        "colab_type": "code",
        "colab": {
          "base_uri": "https://localhost:8080/",
          "height": 298
        },
        "outputId": "50ef18e3-6f7c-45f7-cdbb-fe2c88fa1ed9"
      },
      "source": [
        "fig , axes = plt.subplots(nrows = 1, ncols=2)\n",
        "axes[0].plot(x)\n",
        "axes[1].plot(y)\n",
        "axes[0].set(title=\"index\")\n",
        "axes[1].set(title='produksi')"
      ],
      "execution_count": 20,
      "outputs": [
        {
          "output_type": "execute_result",
          "data": {
            "text/plain": [
              "[Text(0.5, 1.0, 'produksi')]"
            ]
          },
          "metadata": {
            "tags": []
          },
          "execution_count": 20
        },
        {
          "output_type": "display_data",
          "data": {
            "image/png": "[encoded data removed]",
            "text/plain": [
              "<Figure size 432x288 with 2 Axes>"
            ]
          },
          "metadata": {
            "tags": []
          }
        }
      ]
    },
    {
      "cell_type": "code",
      "metadata": {
        "id": "oMcEVYDtYINN",
        "colab_type": "code",
        "colab": {}
      },
      "source": [
        ""
      ],
      "execution_count": 0,
      "outputs": []
    }
  ]
}